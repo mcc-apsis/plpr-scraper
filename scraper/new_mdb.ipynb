{
 "cells": [
  {
   "cell_type": "code",
   "execution_count": 1,
   "metadata": {},
   "outputs": [
    {
     "name": "stderr",
     "output_type": "stream",
     "text": [
      "/home/leey/venv/lib/python3.7/site-packages/psycopg2/__init__.py:144: UserWarning: The psycopg2 wheel package will be renamed from release 2.8; in order to keep installing from binary please use \"pip install psycopg2-binary\" instead. For details see: <http://initd.org/psycopg/docs/install.html#binary-install-from-pypi>.\n",
      "  \"\"\")\n",
      "Slow version of gensim.models.doc2vec is being used\n",
      "Slow version of Fasttext is being used\n"
     ]
    }
   ],
   "source": [
    "import sys\n",
    "import os\n",
    "\n",
    "# preamble for jupyter notebook and django\n",
    "import django\n",
    "import platform\n",
    "\n",
    "if platform.node() == \"srv-mcc-apsis\":\n",
    "    sys.path.append(\"/home/galm/software/django/tmv/BasicBrowser/\")\n",
    "    #sys.path.append('/home/leey/tmv/BasicBrowser/')\n",
    "else:\n",
    "    # local paths\n",
    "    sys.path.append('/home/leey/Documents/Data/tmv/BasicBrowser/')\n",
    "\n",
    "os.environ.setdefault(\"DJANGO_SETTINGS_MODULE\", \"BasicBrowser.settings\")\n",
    "django.setup()\n",
    "\n",
    "# import from appended path\n",
    "import parliament.models as pm\n",
    "from parliament.tasks import do_search, run_tm\n",
    "import cities.models as cmodels\n",
    "from django.contrib.auth.models import User\n",
    "from tmv_app.models import *\n",
    "from utils.tm_mgmt import update_topic_scores\n",
    "from django.db.models import Q, Count, Func, F, Sum, Avg, Value as V\n",
    "from django.core import serializers"
   ]
  },
  {
   "cell_type": "code",
   "execution_count": 2,
   "metadata": {},
   "outputs": [],
   "source": [
    "from mdb_stammdata_parser import *"
   ]
  },
  {
   "cell_type": "code",
   "execution_count": 9,
   "metadata": {},
   "outputs": [
    {
     "data": {
      "text/plain": [
       "(14405,\n",
       " {'parliament.Interjection_persons': 0,\n",
       "  'parliament.ListMembership': 0,\n",
       "  'parliament.Seat': 7800,\n",
       "  'parliament.ConstituencyVote1': 0,\n",
       "  'parliament.Post': 0,\n",
       "  'parliament.Person': 6605})"
      ]
     },
     "execution_count": 9,
     "metadata": {},
     "output_type": "execute_result"
    }
   ],
   "source": [
    "#pm.Person.objects.filter(information_source=\"MDB Stammdata\").all().delete()"
   ]
  },
  {
   "cell_type": "code",
   "execution_count": 8,
   "metadata": {},
   "outputs": [
    {
     "data": {
      "text/plain": [
       "(8994,\n",
       " {'scoping.Note': 0,\n",
       "  'scoping.DocOwnership': 0,\n",
       "  'tmv_app.DocTopic': 0,\n",
       "  'parliament.Utterance_search_matches': 0,\n",
       "  'parliament.Paragraph_search_matches': 0,\n",
       "  'parliament.Interjection_parties': 2626,\n",
       "  'parliament.Interjection_persons': 916,\n",
       "  'parliament.Interjection': 2586,\n",
       "  'parliament.Paragraph': 2423,\n",
       "  'parliament.Utterance': 443})"
      ]
     },
     "execution_count": 8,
     "metadata": {},
     "output_type": "execute_result"
    }
   ],
   "source": [
    "#pm.Utterance.objects.filter(speaker__active_country=cmodels.Country.objects.get(name=\"Germany\").id).delete()"
   ]
  },
  {
   "cell_type": "code",
   "execution_count": 3,
   "metadata": {},
   "outputs": [
    {
     "name": "stdout",
     "output_type": "stream",
     "text": [
      "read data from ./mdbs/MDB_STAMMDATEN.XML\n",
      "<Element 'DOCUMENT' at 0x7f8182c38868>\n",
      "Warning: Party not found: None\n",
      "Warning: Region of Landesliste not found: **\n",
      "Warning: Region of Landesliste not found: **\n",
      "Warning: Region of Landesliste not found: **\n",
      "Warning: Region of Landesliste not found: **\n",
      "Warning: Region of Landesliste not found: *\n",
      "Warning: Region of Landesliste not found: **\n",
      "Warning: Party not found: None\n",
      "Warning: Region of Landesliste not found: **\n",
      "Warning: Region of Landesliste not found: **\n",
      "Warning: Region of Landesliste not found: **\n",
      "Warning: Region of Landesliste not found: *\n",
      "Warning: Region of Landesliste not found: *\n",
      "Warning: Region of Landesliste not found: *\n",
      "Warning: Region of Landesliste not found: *\n",
      "Warning: Region of Landesliste not found: *\n",
      "Warning: Party not found: None\n",
      "Warning: Region of Landesliste not found: *\n",
      "Warning: Region of Landesliste not found: **\n",
      "Warning: Region of Landesliste not found: *\n",
      "Warning: Region of Landesliste not found: *\n",
      "Warning: Region of Landesliste not found: *\n",
      "Warning: Region of Landesliste not found: **\n",
      "Warning: Region of Landesliste not found: **\n",
      "Warning: Unknown Mandatsart: None\n",
      "Done. 24 warnings.\n"
     ]
    }
   ],
   "source": [
    "parse_mdb_data()"
   ]
  },
  {
   "cell_type": "code",
   "execution_count": null,
   "metadata": {},
   "outputs": [],
   "source": []
  }
 ],
 "metadata": {
  "kernelspec": {
   "display_name": "venv",
   "language": "python",
   "name": "venv"
  },
  "language_info": {
   "codemirror_mode": {
    "name": "ipython",
    "version": 3
   },
   "file_extension": ".py",
   "mimetype": "text/x-python",
   "name": "python",
   "nbconvert_exporter": "python",
   "pygments_lexer": "ipython3",
   "version": "3.7.0"
  }
 },
 "nbformat": 4,
 "nbformat_minor": 2
}
