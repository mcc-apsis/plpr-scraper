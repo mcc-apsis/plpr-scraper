{
 "cells": [
  {
   "cell_type": "code",
   "execution_count": 1,
   "metadata": {},
   "outputs": [],
   "source": [
    "import sys\n",
    "import os\n",
    "\n",
    "# preamble for jupyter notebook and django\n",
    "import django\n",
    "import platform\n",
    "\n",
    "if platform.node() == \"srv-mcc-apsis\":\n",
    "    sys.path.append(\"/home/galm/software/django/tmv/BasicBrowser/\")\n",
    "    #sys.path.append('/home/leey/tmv/BasicBrowser/')\n",
    "else:\n",
    "    # local paths\n",
    "    sys.path.append('/home/leey/Documents/Data/tmv/BasicBrowser/')\n",
    "\n",
    "os.environ.setdefault(\"DJANGO_SETTINGS_MODULE\", \"BasicBrowser.settings\")\n",
    "django.setup()\n",
    "\n",
    "# import from appended path\n",
    "import parliament.models as pm\n",
    "from parliament.tasks import do_search, run_tm\n",
    "import cities.models as cmodels\n",
    "from django.contrib.auth.models import User\n",
    "from tmv_app.models import *\n",
    "from utils.tm_mgmt import update_topic_scores\n",
    "from django.db.models import Q, Count, Func, F, Sum, Avg, Value as V\n",
    "from django.core import serializers"
   ]
  },
  {
   "cell_type": "code",
   "execution_count": 2,
   "metadata": {},
   "outputs": [],
   "source": [
    "from mdb_stammdata_parser import *"
   ]
  },
  {
   "cell_type": "code",
   "execution_count": 9,
   "metadata": {},
   "outputs": [
    {
     "data": {
      "text/plain": [
       "(14405,\n",
       " {'parliament.Interjection_persons': 0,\n",
       "  'parliament.ListMembership': 0,\n",
       "  'parliament.Seat': 7800,\n",
       "  'parliament.ConstituencyVote1': 0,\n",
       "  'parliament.Post': 0,\n",
       "  'parliament.Person': 6605})"
      ]
     },
     "execution_count": 9,
     "metadata": {},
     "output_type": "execute_result"
    }
   ],
   "source": [
    "#pm.Person.objects.filter(information_source=\"MDB Stammdata\").all().delete()"
   ]
  },
  {
   "cell_type": "code",
   "execution_count": 8,
   "metadata": {},
   "outputs": [
    {
     "data": {
      "text/plain": [
       "(8994,\n",
       " {'scoping.Note': 0,\n",
       "  'scoping.DocOwnership': 0,\n",
       "  'tmv_app.DocTopic': 0,\n",
       "  'parliament.Utterance_search_matches': 0,\n",
       "  'parliament.Paragraph_search_matches': 0,\n",
       "  'parliament.Interjection_parties': 2626,\n",
       "  'parliament.Interjection_persons': 916,\n",
       "  'parliament.Interjection': 2586,\n",
       "  'parliament.Paragraph': 2423,\n",
       "  'parliament.Utterance': 443})"
      ]
     },
     "execution_count": 8,
     "metadata": {},
     "output_type": "execute_result"
    }
   ],
   "source": [
    "#pm.Utterance.objects.filter(speaker__active_country=cmodels.Country.objects.get(name=\"Germany\").id).delete()"
   ]
  },
  {
   "cell_type": "code",
   "execution_count": 3,
   "metadata": {},
   "outputs": [
    {
     "name": "stdout",
     "output_type": "stream",
     "text": [
      "read data from ./mdbs/MDB_STAMMDATEN.XML\n",
      "<Element 'DOCUMENT' at 0x7f2b1677ea98>\n",
      "Warning: Party not found: None\n",
      "Warning: Region of Landesliste not found: **\n",
      "Warning: Region of Landesliste not found: **\n",
      "Warning: Region of Landesliste not found: **\n",
      "Warning: Region of Landesliste not found: **\n",
      "Warning: Region of Landesliste not found: *\n",
      "Warning: Region of Landesliste not found: **\n",
      "Warning: Party not found: None\n",
      "Warning: Region of Landesliste not found: **\n",
      "Warning: Region of Landesliste not found: **\n",
      "Warning: Region of Landesliste not found: **\n",
      "Warning: Region of Landesliste not found: *\n",
      "Warning: Region of Landesliste not found: *\n",
      "Warning: Region of Landesliste not found: *\n",
      "Warning: Region of Landesliste not found: *\n",
      "Warning: Region of Landesliste not found: *\n",
      "Warning: Party not found: None\n",
      "Warning: Region of Landesliste not found: *\n",
      "Warning: Region of Landesliste not found: **\n",
      "Warning: Region of Landesliste not found: *\n",
      "Warning: Region of Landesliste not found: *\n",
      "Warning: Region of Landesliste not found: *\n",
      "Warning: Region of Landesliste not found: **\n",
      "Warning: Region of Landesliste not found: **\n",
      "Warning: Unknown Mandatsart: None\n",
      "Done. 24 warnings.\n"
     ]
    }
   ],
   "source": [
    "parse_mdb_data()"
   ]
  },
  {
   "cell_type": "code",
   "execution_count": 14,
   "metadata": {},
   "outputs": [
    {
     "data": {
      "text/plain": [
       "<QuerySet [<Person: Gerhard Schulze (Berlin)>, <Person: Waldemar Schulze (Berlin)>, <Person: Frederick Schulze (Sangerhausen)>, <Person: Dr. Klaus-Peter Schulze>]>"
      ]
     },
     "execution_count": 14,
     "metadata": {},
     "output_type": "execute_result"
    }
   ],
   "source": [
    "pm.Person.objects.filter(surname=\"Schulze\")\n"
   ]
  },
  {
   "cell_type": "code",
   "execution_count": 21,
   "metadata": {},
   "outputs": [
    {
     "data": {
      "text/plain": [
       "(639,\n",
       " {'parliament.Document': 1,\n",
       "  'parliament.Document_search_matches': 0,\n",
       "  'parliament.Interjection': 168,\n",
       "  'parliament.Interjection_parties': 253,\n",
       "  'parliament.Interjection_persons': 29,\n",
       "  'parliament.Paragraph': 168,\n",
       "  'parliament.Paragraph_search_matches': 0,\n",
       "  'parliament.Utterance': 20,\n",
       "  'parliament.Utterance_search_matches': 0,\n",
       "  'scoping.DocOwnership': 0,\n",
       "  'scoping.Note': 0,\n",
       "  'tmv_app.DocTopic': 0})"
      ]
     },
     "execution_count": 21,
     "metadata": {},
     "output_type": "execute_result"
    }
   ],
   "source": [
    "pm.Document.objects.last().delete()"
   ]
  },
  {
   "cell_type": "code",
   "execution_count": null,
   "metadata": {},
   "outputs": [],
   "source": []
  }
 ],
 "metadata": {
  "kernelspec": {
   "display_name": "Python 3",
   "language": "python",
   "name": "python3"
  },
  "language_info": {
   "codemirror_mode": {
    "name": "ipython",
    "version": 3
   },
   "file_extension": ".py",
   "mimetype": "text/x-python",
   "name": "python",
   "nbconvert_exporter": "python",
   "pygments_lexer": "ipython3",
   "version": "3.7.2"
  }
 },
 "nbformat": 4,
 "nbformat_minor": 2
}
