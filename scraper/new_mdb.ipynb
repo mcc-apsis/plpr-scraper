{
 "cells": [
  {
   "cell_type": "code",
   "execution_count": 1,
   "metadata": {
    "scrolled": true
   },
   "outputs": [
    {
     "name": "stderr",
     "output_type": "stream",
     "text": [
      "/home/leey/venv/lib/python3.7/site-packages/psycopg2/__init__.py:144: UserWarning: The psycopg2 wheel package will be renamed from release 2.8; in order to keep installing from binary please use \"pip install psycopg2-binary\" instead. For details see: <http://initd.org/psycopg/docs/install.html#binary-install-from-pypi>.\n",
      "  \"\"\")\n",
      "Slow version of gensim.models.doc2vec is being used\n",
      "Slow version of Fasttext is being used\n"
     ]
    }
   ],
   "source": [
    "import sys\n",
    "import os\n",
    "\n",
    "# preamble for jupyter notebook and django\n",
    "import django\n",
    "import platform\n",
    "\n",
    "if platform.node() == \"srv-mcc-apsis\":\n",
    "    sys.path.append(\"/home/galm/software/django/tmv/BasicBrowser/\")\n",
    "    #sys.path.append('/home/leey/tmv/BasicBrowser/')\n",
    "else:\n",
    "    # local paths\n",
    "    sys.path.append('/home/leey/Documents/Data/tmv/BasicBrowser/')\n",
    "\n",
    "os.environ.setdefault(\"DJANGO_SETTINGS_MODULE\", \"BasicBrowser.settings\")\n",
    "django.setup()\n",
    "\n",
    "# import from appended path\n",
    "import parliament.models as pm\n",
    "from parliament.tasks import do_search, run_tm\n",
    "import cities.models as cmodels\n",
    "from django.contrib.auth.models import User\n",
    "from tmv_app.models import *\n",
    "from django.core import serializers"
   ]
  },
  {
   "cell_type": "markdown",
   "metadata": {},
   "source": [
    "### Parsing MDB data"
   ]
  },
  {
   "cell_type": "code",
   "execution_count": 2,
   "metadata": {},
   "outputs": [],
   "source": [
    "from mdb_stammdata_parser import *"
   ]
  },
  {
   "cell_type": "code",
   "execution_count": 9,
   "metadata": {},
   "outputs": [
    {
     "data": {
      "text/plain": [
       "(14405,\n",
       " {'parliament.Interjection_persons': 0,\n",
       "  'parliament.ListMembership': 0,\n",
       "  'parliament.Seat': 7800,\n",
       "  'parliament.ConstituencyVote1': 0,\n",
       "  'parliament.Post': 0,\n",
       "  'parliament.Person': 6605})"
      ]
     },
     "execution_count": 9,
     "metadata": {},
     "output_type": "execute_result"
    }
   ],
   "source": [
    "#pm.Person.objects.filter(information_source=\"MDB Stammdata\").all().delete()"
   ]
  },
  {
   "cell_type": "code",
   "execution_count": 8,
   "metadata": {},
   "outputs": [
    {
     "data": {
      "text/plain": [
       "(8994,\n",
       " {'scoping.Note': 0,\n",
       "  'scoping.DocOwnership': 0,\n",
       "  'tmv_app.DocTopic': 0,\n",
       "  'parliament.Utterance_search_matches': 0,\n",
       "  'parliament.Paragraph_search_matches': 0,\n",
       "  'parliament.Interjection_parties': 2626,\n",
       "  'parliament.Interjection_persons': 916,\n",
       "  'parliament.Interjection': 2586,\n",
       "  'parliament.Paragraph': 2423,\n",
       "  'parliament.Utterance': 443})"
      ]
     },
     "execution_count": 8,
     "metadata": {},
     "output_type": "execute_result"
    }
   ],
   "source": [
    "#pm.Utterance.objects.filter(speaker__active_country=cmodels.Country.objects.get(name=\"Germany\").id).delete()"
   ]
  },
  {
   "cell_type": "code",
   "execution_count": 3,
   "metadata": {},
   "outputs": [
    {
     "name": "stdout",
     "output_type": "stream",
     "text": [
      "read data from ./mdbs/MDB_STAMMDATEN.XML\n",
      "<Element 'DOCUMENT' at 0x7f2b1677ea98>\n",
      "Warning: Party not found: None\n",
      "Warning: Region of Landesliste not found: **\n",
      "Warning: Region of Landesliste not found: **\n",
      "Warning: Region of Landesliste not found: **\n",
      "Warning: Region of Landesliste not found: **\n",
      "Warning: Region of Landesliste not found: *\n",
      "Warning: Region of Landesliste not found: **\n",
      "Warning: Party not found: None\n",
      "Warning: Region of Landesliste not found: **\n",
      "Warning: Region of Landesliste not found: **\n",
      "Warning: Region of Landesliste not found: **\n",
      "Warning: Region of Landesliste not found: *\n",
      "Warning: Region of Landesliste not found: *\n",
      "Warning: Region of Landesliste not found: *\n",
      "Warning: Region of Landesliste not found: *\n",
      "Warning: Region of Landesliste not found: *\n",
      "Warning: Party not found: None\n",
      "Warning: Region of Landesliste not found: *\n",
      "Warning: Region of Landesliste not found: **\n",
      "Warning: Region of Landesliste not found: *\n",
      "Warning: Region of Landesliste not found: *\n",
      "Warning: Region of Landesliste not found: *\n",
      "Warning: Region of Landesliste not found: **\n",
      "Warning: Region of Landesliste not found: **\n",
      "Warning: Unknown Mandatsart: None\n",
      "Done. 24 warnings.\n"
     ]
    }
   ],
   "source": [
    "parse_mdb_data()"
   ]
  },
  {
   "cell_type": "markdown",
   "metadata": {},
   "source": [
    "### Adding positions"
   ]
  },
  {
   "cell_type": "markdown",
   "metadata": {},
   "source": [
    "**Positions added manually to spreadsheet, then added to database here**"
   ]
  },
  {
   "cell_type": "code",
   "execution_count": 3,
   "metadata": {},
   "outputs": [
    {
     "data": {
      "text/html": [
       "<div>\n",
       "<style scoped>\n",
       "    .dataframe tbody tr th:only-of-type {\n",
       "        vertical-align: middle;\n",
       "    }\n",
       "\n",
       "    .dataframe tbody tr th {\n",
       "        vertical-align: top;\n",
       "    }\n",
       "\n",
       "    .dataframe thead th {\n",
       "        text-align: right;\n",
       "    }\n",
       "</style>\n",
       "<table border=\"1\" class=\"dataframe\">\n",
       "  <thead>\n",
       "    <tr style=\"text-align: right;\">\n",
       "      <th></th>\n",
       "      <th>surname</th>\n",
       "      <th>first_name</th>\n",
       "      <th>position added</th>\n",
       "    </tr>\n",
       "  </thead>\n",
       "  <tbody>\n",
       "    <tr>\n",
       "      <th>0</th>\n",
       "      <td>Klein</td>\n",
       "      <td>Hans</td>\n",
       "      <td>Vizepräsident</td>\n",
       "    </tr>\n",
       "    <tr>\n",
       "      <th>1</th>\n",
       "      <td>Wimmer</td>\n",
       "      <td>Willy</td>\n",
       "      <td>Parl. Staatssekretär</td>\n",
       "    </tr>\n",
       "    <tr>\n",
       "      <th>2</th>\n",
       "      <td>Schmidt</td>\n",
       "      <td>Renate</td>\n",
       "      <td>Vizepräsidentin</td>\n",
       "    </tr>\n",
       "    <tr>\n",
       "      <th>3</th>\n",
       "      <td>Schäfer</td>\n",
       "      <td>Helmut</td>\n",
       "      <td>Staatsminister</td>\n",
       "    </tr>\n",
       "    <tr>\n",
       "      <th>4</th>\n",
       "      <td>Klein</td>\n",
       "      <td>Hans</td>\n",
       "      <td>Bundesminister für wirtschaftliche Zusammenarbeit</td>\n",
       "    </tr>\n",
       "    <tr>\n",
       "      <th>5</th>\n",
       "      <td>Schäfer</td>\n",
       "      <td>Helmut</td>\n",
       "      <td>Staatsminister im Auswärtigen Amt</td>\n",
       "    </tr>\n",
       "    <tr>\n",
       "      <th>6</th>\n",
       "      <td>Geiger</td>\n",
       "      <td>Michaela</td>\n",
       "      <td>Parl. Staatssekretär beim Bundesminister für w...</td>\n",
       "    </tr>\n",
       "    <tr>\n",
       "      <th>7</th>\n",
       "      <td>Genscher</td>\n",
       "      <td>Hans-Dietrich</td>\n",
       "      <td>Bundesminister Auswärtigen</td>\n",
       "    </tr>\n",
       "    <tr>\n",
       "      <th>8</th>\n",
       "      <td>Töpfer</td>\n",
       "      <td>Klaus</td>\n",
       "      <td>Bundesminister für Umwelt, Naturschutz und Rea...</td>\n",
       "    </tr>\n",
       "    <tr>\n",
       "      <th>9</th>\n",
       "      <td>Töpfer</td>\n",
       "      <td>Klaus</td>\n",
       "      <td>Bundesminister</td>\n",
       "    </tr>\n",
       "  </tbody>\n",
       "</table>\n",
       "</div>"
      ],
      "text/plain": [
       "    surname     first_name                                     position added\n",
       "0     Klein           Hans                                      Vizepräsident\n",
       "1    Wimmer          Willy                               Parl. Staatssekretär\n",
       "2   Schmidt         Renate                                    Vizepräsidentin\n",
       "3   Schäfer         Helmut                                     Staatsminister\n",
       "4     Klein           Hans  Bundesminister für wirtschaftliche Zusammenarbeit\n",
       "5   Schäfer         Helmut                  Staatsminister im Auswärtigen Amt\n",
       "6    Geiger       Michaela  Parl. Staatssekretär beim Bundesminister für w...\n",
       "7  Genscher  Hans-Dietrich                         Bundesminister Auswärtigen\n",
       "8    Töpfer          Klaus  Bundesminister für Umwelt, Naturschutz und Rea...\n",
       "9    Töpfer          Klaus                                     Bundesminister"
      ]
     },
     "execution_count": 3,
     "metadata": {},
     "output_type": "execute_result"
    }
   ],
   "source": [
    "import pandas as pd \n",
    "pos_add = pd.read_csv('mdb_positions_added.csv')\n",
    "pos_add"
   ]
  },
  {
   "cell_type": "code",
   "execution_count": 12,
   "metadata": {},
   "outputs": [],
   "source": [
    "# will continue to add same position if repeated! \n",
    "# 0 - 7 added\n",
    "for i in range(9, len(pos_add)):\n",
    "    surname = pos_add.iloc[i]['surname']\n",
    "    first_name = pos_add.iloc[i]['first_name']\n",
    "    position = pos_add.iloc[i]['position added']\n",
    "    person = pm.Person.objects.get(surname=surname, first_name=first_name)\n",
    "    person.positions.append(position)\n",
    "    person.save()"
   ]
  },
  {
   "cell_type": "code",
   "execution_count": 13,
   "metadata": {},
   "outputs": [
    {
     "data": {
      "text/plain": [
       "['parliamentarian', 'Bundesminister Auswärtigen']"
      ]
     },
     "execution_count": 13,
     "metadata": {},
     "output_type": "execute_result"
    }
   ],
   "source": [
    "pm.Person.objects.get(surname='Genscher', first_name='Hans-Dietrich').positions"
   ]
  },
  {
   "cell_type": "code",
   "execution_count": null,
   "metadata": {},
   "outputs": [],
   "source": []
  }
 ],
 "metadata": {
  "kernelspec": {
   "display_name": "Python 3",
   "language": "python",
   "name": "python3"
  },
  "language_info": {
   "codemirror_mode": {
    "name": "ipython",
    "version": 3
   },
   "file_extension": ".py",
   "mimetype": "text/x-python",
   "name": "python",
   "nbconvert_exporter": "python",
   "pygments_lexer": "ipython3",
   "version": "3.7.0"
  }
 },
 "nbformat": 4,
 "nbformat_minor": 2
}
