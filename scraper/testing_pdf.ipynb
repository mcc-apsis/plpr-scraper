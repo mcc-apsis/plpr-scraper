{
 "cells": [
  {
   "cell_type": "code",
   "execution_count": 1,
   "metadata": {},
   "outputs": [
    {
     "name": "stderr",
     "output_type": "stream",
     "text": [
      "/home/leey/venv/lib/python3.7/site-packages/psycopg2/__init__.py:144: UserWarning: The psycopg2 wheel package will be renamed from release 2.8; in order to keep installing from binary please use \"pip install psycopg2-binary\" instead. For details see: <http://initd.org/psycopg/docs/install.html#binary-install-from-pypi>.\n",
      "  \"\"\")\n",
      "Slow version of gensim.models.doc2vec is being used\n",
      "Slow version of Fasttext is being used\n"
     ]
    }
   ],
   "source": [
    "# parser for pdf scans inside xml-files from German Bundestag / Opendata for periods 1 - 18\n",
    "# into the django parliament app\n",
    "# https://www.bundestag.de/services/opendata\n",
    "\n",
    "from __future__ import print_function\n",
    "import os, sys\n",
    "import django\n",
    "from django.conf import settings\n",
    "import re\n",
    "import requests\n",
    "import dataset\n",
    "import datetime\n",
    "from xml.etree import ElementTree\n",
    "from urllib.parse import urljoin\n",
    "# Extract agenda numbers not part of normdatei\n",
    "from normality import normalize\n",
    "import platform\n",
    "import zipfile\n",
    "\n",
    "if platform.node() == \"srv-mcc-apsis\":\n",
    "    sys.path.append('/home/leey/tmv/BasicBrowser/')\n",
    "    data_dir = '/home/leey/Plenarprotokolle'\n",
    "else:\n",
    "    # local paths\n",
    "    sys.path.append('/home/leey/Documents/Data/tmv/BasicBrowser/')\n",
    "    data_dir = '/home/leey/Documents/Data/Plenarprotokolle'\n",
    "\n",
    "# imports and settings for django and database\n",
    "# --------------------------------------------\n",
    "\n",
    "os.environ.setdefault(\"DJANGO_SETTINGS_MODULE\", \"BasicBrowser.settings\")\n",
    "# alternatively\n",
    "#settings.configure(DEBUG=True)\n",
    "django.setup()\n",
    "\n",
    "# import from appended path\n",
    "import parliament.models as pm\n",
    "from parliament.tasks import do_search\n",
    "import cities.models as cmodels\n",
    "\n",
    "from parsing_utils import dehyphenate, POI, clean_text, correct_pdf_parsing_errors, search_party_names, search_person_party\n",
    "from find_person_in_db_pdf import find_person_in_db\n",
    "from regular_expressions_global import *\n",
    "\n",
    "import pprint\n",
    "pretty_printer = pprint.PrettyPrinter(indent=4)"
   ]
  },
  {
   "cell_type": "markdown",
   "metadata": {},
   "source": [
    "### Scraper"
   ]
  },
  {
   "cell_type": "code",
   "execution_count": null,
   "metadata": {
    "code_folding": [
     8
    ]
   },
   "outputs": [],
   "source": [
    "# coding: utf-8\n",
    "# ============================================================\n",
    "# write output to file and terminal\n",
    "\n",
    "time_stamp = datetime.datetime.now().strftime(\"%y%m%d_%H%M%S\")\n",
    "output_file = \"./parlsessions_pdf_parser_output_\" + time_stamp + \".log\"\n",
    "print(\"log file: {}\".format(output_file))\n",
    "\n",
    "class Logger(object):\n",
    "    def __init__(self):\n",
    "        self.terminal = sys.stdout\n",
    "        self.log = open(output_file, \"a\")\n",
    "\n",
    "    def write(self, message):\n",
    "        self.terminal.write(message)\n",
    "        self.log.write(message)\n",
    "\n",
    "    def flush(self):\n",
    "        #this flush method is needed for python 3 compatibility.\n",
    "        #this handles the flush command by doing nothing.\n",
    "        #you might want to specify some extra behavior here.\n",
    "        pass\n"
   ]
  },
  {
   "cell_type": "code",
   "execution_count": 6,
   "metadata": {
    "code_folding": [
     251,
     259
    ]
   },
   "outputs": [],
   "source": [
    "class SpeechParser(object):\n",
    "\n",
    "    def __init__(self, lines, verbosity=0):\n",
    "        self.lines = lines\n",
    "        self.line_number = 0\n",
    "        self.was_chair = True\n",
    "        self.date = None\n",
    "        self.verbosity = verbosity\n",
    "        self.in_session = False\n",
    "        self.in_header = False\n",
    "        self.in_poi = False\n",
    "        self.poi_content = \"\"\n",
    "        self.poi_linecounter = 0\n",
    "        self.chair = False\n",
    "        self.text = []\n",
    "        self.pars = []\n",
    "        self.speaker = None\n",
    "        self.speaker_party = None\n",
    "        self.speaker_ortszusatz = None\n",
    "        self.warnings_counter = 0\n",
    "\n",
    "    def get_date(self):\n",
    "        for line in self.lines:\n",
    "            date_match = DATE.search(line)\n",
    "            if date_match:\n",
    "                try:\n",
    "                    d = int(date_match.group(2))\n",
    "                    m = int(D_MONTHS[date_match.group(3)])\n",
    "                    y = int(date_match.group(4))\n",
    "                    date = datetime.date(y, m, d)\n",
    "                    self.date = date\n",
    "                    return\n",
    "\n",
    "                except ValueError:\n",
    "                    print(\"date from manuscript not readable: {}\".format(DATE.match(line)))\n",
    "                    print(\"group 1: {}\".format(DATE.match(line).group(1)))\n",
    "                    print(\"group 2: {}\".format(DATE.match(line).group(2)))\n",
    "                    print(\"group 3: {}\".format(DATE.match(line).group(3)))\n",
    "                    print(\"group 4: {}\".format(DATE.match(line).group(4)))\n",
    "                    raise ValueError\n",
    "\n",
    "        print(\"Parser: Did not find date\")\n",
    "        return None\n",
    "\n",
    "    def append_text_and_poi(self):\n",
    "        par = {\n",
    "            'text': dehyphenate(self.text),\n",
    "            'pois': []\n",
    "        }\n",
    "        for poi_raw in re.split(' [-–—]-? ', self.poi_content):\n",
    "            poi_obj = POI(poi_raw)\n",
    "            par['pois'].append(poi_obj)\n",
    "            if self.verbosity > 0:\n",
    "                print(\"interjection: speakers: {}, party: {}, speaker_party: {}, speaker_ortszusatz: {}, type: {},\"\n",
    "                      \"\\ninterjection text: {}\".format(poi_obj.speakers, poi_obj.parties, poi_obj.speaker_party, poi_obj.speaker_ortszusatz, poi_obj.type, poi_obj.poitext))\n",
    "\n",
    "        self.pars.append(par)\n",
    "        self.text = []\n",
    "        self.poi_content = \"\"\n",
    "\n",
    "    def emit(self):\n",
    "        data = {\n",
    "            'speaker': self.speaker,\n",
    "            'speaker_party': self.speaker_party,\n",
    "            'speaker_ortszusatz': self.speaker_ortszusatz,\n",
    "            'type': 'chair' if self.chair else 'speech',\n",
    "            'pars': self.pars\n",
    "        }\n",
    "        self.was_chair = self.chair\n",
    "        self.text = []\n",
    "        self.pars = []\n",
    "        if self.verbosity > 1:\n",
    "            print(\"utterance: {}\".format(data))\n",
    "        return data\n",
    "\n",
    "    def __iter__(self):\n",
    "\n",
    "        no_lines = len(self.lines)\n",
    "        self.line_number = -1\n",
    "\n",
    "        while self.line_number + 1 < no_lines:\n",
    "            self.line_number += 1\n",
    "            line = self.lines[self.line_number].strip()\n",
    "            if verbosity > 1:\n",
    "                print(\"- l{l:04d}: \".format(l=self.line_number) + line)\n",
    "\n",
    "            # Check if in session, session beginning, session ending\n",
    "            if not self.in_session and BEGIN_MARK.match(line):\n",
    "                print(\"= matched begin mark at line {}: {}\".format(self.line_number, line))\n",
    "                self.in_session = True\n",
    "                continue\n",
    "            if not self.in_session and INCOMPLETE_BEGIN_MARK.match(line):\n",
    "                print(\"! warning at line {}: Matched only incomplete begin mark: {}\".format(self.line_number, line))\n",
    "                self.warnings_counter += 1\n",
    "                self.in_session = True\n",
    "\n",
    "            elif not self.in_session:\n",
    "                continue\n",
    "\n",
    "            if DISRUPTION_MARK.match(line):\n",
    "                continue\n",
    "\n",
    "            for k in range(1,3):\n",
    "                lines = \"\\n\".join(self.lines[self.line_number:self.line_number+k])\n",
    "                lines = dehyphenate(lines)\n",
    "                if END_MARK.search(lines):\n",
    "                    print(\"= matched end mark at line {}: {}\".format(self.line_number, lines))\n",
    "                    self.text.append(lines)\n",
    "                    par = {\n",
    "                        'text': dehyphenate(self.text),\n",
    "                        # default for strip: removing leading and ending white space\n",
    "                        'pois': []\n",
    "                    }\n",
    "                    self.pars.append(par)\n",
    "                    yield self.emit()\n",
    "                    return\n",
    "\n",
    "            # empty line\n",
    "            if not len(line):\n",
    "                continue\n",
    "\n",
    "            # match repeated mentioning of speaker from header\n",
    "            if self.speaker:\n",
    "                speaker = self.speaker.replace('Dr. ', '')\n",
    "                speaker = speaker.split(\" (\")[0]\n",
    "                speaker = speaker.split(\", \")[0]\n",
    "                # print(\"looking for {}\".format(speaker))\n",
    "                try:\n",
    "                    SPEAKER_HEADER = re.compile('.{0,30}%s' % speaker)\n",
    "                    if SPEAKER_HEADER.match(line):\n",
    "                        if verbosity > 0:\n",
    "                            print(\"= matched speaker in header: \", line)\n",
    "                        continue\n",
    "                except:\n",
    "                    pass\n",
    "\n",
    "            header_match = HEADER_MARK.match(line)\n",
    "            if header_match is not None:\n",
    "                if verbosity > 0:\n",
    "                    print(\"= matched header: \", line)\n",
    "\n",
    "                self.in_header = True\n",
    "                continue\n",
    "\n",
    "            if self.in_header and self.speaker is not None:\n",
    "                if line.startswith(self.speaker):\n",
    "                    if verbosity > 0:\n",
    "                        print(\"= matched current speaker in header: {}\".format(line))\n",
    "                    continue\n",
    "                else:\n",
    "                    self.in_header = False\n",
    "\n",
    "            is_top = False\n",
    "            # new point on the agenda (top - tagesordnungspunkt)\n",
    "            if TOP_MARK.match(line):\n",
    "                if verbosity > 0:\n",
    "                    print(\"= matched top mark: {}\".format(line))\n",
    "                is_top = True\n",
    "\n",
    "            has_stopword = False\n",
    "            for sw in SPEAKER_STOPWORDS:\n",
    "                if sw.lower() in line.lower():\n",
    "                    if verbosity > 0:\n",
    "                        print(\"= setting stopword flag\")\n",
    "                    has_stopword = True\n",
    "\n",
    "            for k in range(1,4):\n",
    "                lines = \"\\n\".join(self.lines[self.line_number:self.line_number+k])\n",
    "                lines = dehyphenate(lines, nl=True)\n",
    "                # print(repr(lines)) # print with escape characters\n",
    "                speaker_match = (PRESIDENT.match(lines) or\n",
    "                                 PARTY_MEMBER_PDF.match(lines) or\n",
    "                                 STAATSSEKR.match(lines) or\n",
    "                                 STAATSMINISTER.match(lines) or\n",
    "                                 WEHRBEAUFTRAGTER.match(lines) or\n",
    "                                 BUNDESKANZLER.match(lines) or\n",
    "                                 BEAUFTRAGT.match(lines) or\n",
    "                                 MINISTER.match(lines) or\n",
    "                                 BERICHTERSTATTER.match(lines))\n",
    "\n",
    "                if speaker_match is not None:\n",
    "                    if verbosity > 0:\n",
    "                        print(\"= matched speaker at line {}: {}\".format(self.line_number, speaker_match))\n",
    "                    self.in_poi = False\n",
    "                    self.line_number += k - 1\n",
    "                    break # break to following chunk to add text \n",
    "\n",
    "            if speaker_match is not None \\\n",
    "                    and not is_top \\\n",
    "                    and not has_stopword:\n",
    "\n",
    "                if self.speaker is None and self.text == [] and self.pars == []:\n",
    "                    self.text = []\n",
    "                else:\n",
    "                    if verbosity > 1:\n",
    "                        print(\"number of paragraphs in utterance: {}\".format(len(self.pars)))\n",
    "                    # this is where speaker text is being added to par['text'] \n",
    "                    # which is then added as Paragraph object\n",
    "                    self.text.append(lines)\n",
    "                    if len(self.pars) < 1:\n",
    "                        par = {\n",
    "                            'text': dehyphenate(self.text),\n",
    "                            'pois': []\n",
    "                        }\n",
    "                        self.pars.append(par)\n",
    "\n",
    "                    yield self.emit()\n",
    "\n",
    "                role = line.strip().split(' ')[0]\n",
    "                self.speaker = speaker_match.group(0).strip(' :')\n",
    "                self.speaker_party = search_person_party(line.strip().split(':')[0])\n",
    "                self.speaker_ortszusatz = speaker_match.group(2)\n",
    "                self.chair = role in CHAIRS\n",
    "                continue\n",
    "\n",
    "            poi_match = POI_MARK.match(line)\n",
    "            if poi_match is not None:\n",
    "                self.poi_content = poi_match.group(1)\n",
    "                self.append_text_and_poi()\n",
    "                continue\n",
    "\n",
    "            if not self.in_poi:\n",
    "                poi_begin = POI_BEGIN.match(line)\n",
    "                if poi_begin:\n",
    "                    if verbosity > 1:\n",
    "                        print(\"= raised in_poi flag\")\n",
    "                    self.in_poi = True\n",
    "                    self.poi_content = line\n",
    "                    self.poi_linecounter = 0\n",
    "                    continue\n",
    "            else:\n",
    "                self.poi_content += \"\\n\" + line\n",
    "                self.poi_linecounter += 1\n",
    "                if POI_END.match(line):\n",
    "                    self.poi_content = dehyphenate(self.poi_content).strip().strip('()')\n",
    "                    self.append_text_and_poi()\n",
    "                    if verbosity > 1:\n",
    "                        print(\"= matched poi end\")\n",
    "                    self.in_poi = False\n",
    "                if self.poi_linecounter > 10:\n",
    "                    print(\"! Warning: No match of poi end after 10 lines. Going back to normal mode.\")\n",
    "                    self.warnings_counter += 1\n",
    "                    self.in_poi = False\n",
    "                    self.text.append(self.poi_content)\n",
    "                continue\n",
    "\n",
    "            self.text.append(line)\n",
    "\n",
    "        print(\"! Warning: Reached end of file without end mark\")\n",
    "        self.warnings_counter += 1\n",
    "        yield self.emit()\n",
    "\n",
    "\n",
    "def file_metadata(filename):\n",
    "    fname = os.path.basename(filename)\n",
    "    try:\n",
    "        return int(fname[:2]), int(fname[2:5])\n",
    "    except:\n",
    "        return int(fname[:2]), fname[2:5]\n",
    "\n",
    "\n",
    "def german_date(str):\n",
    "    if str is None:\n",
    "        return None\n",
    "    return datetime.datetime.strptime(str,\"%d.%m.%Y\").date()"
   ]
  },
  {
   "cell_type": "code",
   "execution_count": 3,
   "metadata": {
    "code_folding": [
     0
    ]
   },
   "outputs": [],
   "source": [
    "# ====================================================================\n",
    "# ========== parse function ==========================================\n",
    "# ====================================================================\n",
    "\n",
    "\n",
    "def parse_transcript(file, verbosity=1):\n",
    "\n",
    "    warnings_counter2 = 0\n",
    "    if isinstance(file, str):\n",
    "        print(\"loading text from {}\".format(file))\n",
    "        try:\n",
    "            with open(file) as fh:\n",
    "                content = fh.read()\n",
    "                text = clean_text(content)\n",
    "        except UnicodeDecodeError:\n",
    "            print(\"Reloading in other encoding (windows-1252)\")\n",
    "            with open(file, encoding=\"windows-1252\") as fh:\n",
    "                content = fh.read()\n",
    "                text = clean_text(content)\n",
    "        filename = file\n",
    "        wp, session = file_metadata(filename)\n",
    "\n",
    "    # open file in zip archive\n",
    "    elif isinstance(file, zipfile.ZipExtFile):\n",
    "        content = file.read()\n",
    "        filename = file.name\n",
    "        if filename.endswith(\".xml\"):\n",
    "            root = ElementTree.fromstring(content)\n",
    "            if verbosity > 0:\n",
    "                print(\"loading text from {}\".format(filename))\n",
    "\n",
    "            # display contents of xml file\n",
    "            if verbosity > 1:\n",
    "                print(\"xml root: {}, attributes: {}\".format(root.tag, root.attrib))\n",
    "                for child in root:\n",
    "                    print(\"xml child: {}, attributes: {}\".format(child.tag, child.attrib))\n",
    "                    print(\"xml beginning of text: {}\".format(child.text[:100].replace('\\n', ' ')))\n",
    "\n",
    "            wp = int(root.find(\"WAHLPERIODE\").text)\n",
    "            document_type = root.find(\"DOKUMENTART\").text\n",
    "            if document_type != \"PLENARPROTOKOLL\":\n",
    "                print(\"Warning: document {} is not tagged as Plenarprotokoll but {}\".format(filename, document_type))\n",
    "                warnings_counter2 += 1\n",
    "            number = root.find(\"NR\").text\n",
    "            session = int(number.split(\"/\")[1])\n",
    "            date = root.find(\"DATUM\").text\n",
    "            titel = root.find(\"TITEL\").text\n",
    "            text = clean_text(root.find(\"TEXT\").text)\n",
    "            text = correct_pdf_parsing_errors(text)\n",
    "        else:\n",
    "            print(\"filetype not xml\")\n",
    "            return 0\n",
    "\n",
    "    else:\n",
    "        print(\"invalid filetype\")\n",
    "        return 0\n",
    "\n",
    "    base_data = {\n",
    "        'filename': filename,\n",
    "        'sitzung': session,\n",
    "        'wahlperiode': wp\n",
    "    }\n",
    "\n",
    "    print(\"\\nParsing transcript: {}/{}, from {}\".format(wp, session, filename))\n",
    "    utterance_counter = 0\n",
    "    paragraph_counter = 0\n",
    "    interjection_counter = 0\n",
    "\n",
    "    # start parsing\n",
    "    parser = SpeechParser(text.split('\\n'), verbosity=verbosity)\n",
    "    # get_date is not working for all documents\n",
    "    parser.get_date()\n",
    "    if isinstance(file, zipfile.ZipExtFile):\n",
    "        if parser.date != german_date(date):\n",
    "            print(\"! Warning: dates do not match\")\n",
    "            warnings_counter2 += 1\n",
    "            print(parser.date)\n",
    "            print(date)\n",
    "            print(german_date(date))\n",
    "\n",
    "    parl, created = pm.Parl.objects.get_or_create(\n",
    "        country=cmodels.Country.objects.get(name=\"Germany\"),\n",
    "        level='N'\n",
    "    )\n",
    "    if created and verbosity > 0:\n",
    "        print(\"created new object for parliament\")\n",
    "\n",
    "    pp, created = pm.ParlPeriod.objects.get_or_create(\n",
    "                                    parliament=parl,\n",
    "                                    n=wp)\n",
    "    if created and verbosity > 0:\n",
    "        print(\"created new object for legislative period\")\n",
    "\n",
    "    doc, created = pm.Document.objects.get_or_create(\n",
    "        parlperiod=pp,\n",
    "        doc_type=\"Plenarprotokoll\",\n",
    "        date=german_date(date),\n",
    "        sitting=session,\n",
    "        text_source=\"from https://www.bundestag.de/service/opendata (scans of pdfs with xml metadata)\"\n",
    "    )\n",
    "    if created:\n",
    "        print(\"created new object for plenary session document\")\n",
    "    doc.save()\n",
    "\n",
    "    doc.utterance_set.all().delete()\n",
    "\n",
    "    # parser.__iter__ yields dict with paragraphs + speaker + speaker_party + interjections (poi)\n",
    "    for contrib in parser:\n",
    "\n",
    "        if verbosity > 1:\n",
    "            print(\"saving utterance: {}\".format(contrib))\n",
    "\n",
    "        # update dictionary\n",
    "        contrib.update(base_data)\n",
    "\n",
    "        if contrib['speaker']:\n",
    "            info_dict = {'wp': wp, 'session': session, 'speaker_party': contrib['speaker_party'],\n",
    "                         'speaker_ortszusatz': contrib['speaker_ortszusatz'], 'source_type': 'PDF/SP'}\n",
    "            per = find_person_in_db(contrib['speaker'], add_info=info_dict, verbosity=verbosity)\n",
    "        else:\n",
    "            print(\"! Warning: No speaker given, not saving the following contribution: {}\".format(contrib))\n",
    "            warnings_counter2 += 1\n",
    "            continue\n",
    "\n",
    "        if per is None:\n",
    "            print(\"! Warning: Not able to match person, not saving the following contribution: {}\".format(contrib))\n",
    "            warnings_counter2 += 1\n",
    "            continue\n",
    "\n",
    "        position = PERSON_POSITION.search(contrib['speaker'])\n",
    "\n",
    "        if position:\n",
    "            role_description = position.group(0)\n",
    "\n",
    "            speaker_role_set = pm.SpeakerRole.objects.filter(alt_names__contains=[role_description])\n",
    "            if len(speaker_role_set) < 1:\n",
    "                speaker_role = pm.SpeakerRole(name=role_description, alt_names=[role_description])\n",
    "                speaker_role.save()\n",
    "            else:\n",
    "                speaker_role = speaker_role_set.first()\n",
    "                if len(speaker_role_set) > 1:\n",
    "                    print(\"Warning: several speaker roles matching\")\n",
    "\n",
    "            ut = pm.Utterance(\n",
    "                document=doc,\n",
    "                speaker=per,\n",
    "                speaker_role=speaker_role\n",
    "            )\n",
    "        else:\n",
    "            ut = pm.Utterance(\n",
    "                document=doc,\n",
    "                speaker=per\n",
    "            )\n",
    "\n",
    "        ut.save()\n",
    "        utterance_counter += 1\n",
    "\n",
    "        for par in contrib['pars']:\n",
    "\n",
    "            if par['text']:\n",
    "                para = pm.Paragraph(\n",
    "                    utterance=ut,\n",
    "                    text=par['text'],\n",
    "                    word_count=len(par['text'].split()),\n",
    "                    char_len=len(par['text'])\n",
    "                )\n",
    "                para.save()\n",
    "                paragraph_counter += 1\n",
    "            else:\n",
    "                print(\"! Warning: Empty paragraph ({})\".format(par))\n",
    "                warnings_counter2 += 1\n",
    "                for ij in par['pois']:\n",
    "                    print(\"poi: {}\".format(ij.poitext))\n",
    "                continue\n",
    "\n",
    "            for ij in par['pois']:\n",
    "                if ij.type is None:\n",
    "                    print(\"! Warning: Ommiting interjection. Interjection type not identified for: {}\".format(ij.poitext))\n",
    "                    warnings_counter2 += 1\n",
    "                    continue\n",
    "                interjection = pm.Interjection(\n",
    "                    paragraph=para,\n",
    "                    text=ij.poitext,\n",
    "                    type=ij.type\n",
    "                )\n",
    "                interjection.save()\n",
    "                interjection_counter += 1\n",
    "\n",
    "                if ij.parties:\n",
    "                    for party_name in ij.parties.split(':'):\n",
    "                        party, created = pm.Party.objects.get_or_create(\n",
    "                            name=party_name\n",
    "                        )\n",
    "\n",
    "                        interjection.parties.add(party)\n",
    "                if ij.speakers:\n",
    "                    for person in ij.speakers:\n",
    "                        info_dict = {'wp': wp, 'session': session, 'speaker_party': contrib['speaker_party'],\n",
    "                                     'speaker_ortszusatz': contrib['speaker_ortszusatz'], 'source_type': 'PDF/SP'}\n",
    "                        per = find_person_in_db(person, add_info=info_dict, verbosity=verbosity)\n",
    "                        if per is not None:\n",
    "                            interjection.persons.add(per)\n",
    "                        else:\n",
    "                            print(\"! Warning: Speaker could not be identified\")\n",
    "                            warnings_counter2 += 1\n",
    "\n",
    "    if not parser.in_session:\n",
    "        print(\"! Error: beginning of session not found\")\n",
    "        return (1, 0)\n",
    "\n",
    "    print(\"==================================================\")\n",
    "    print(\"Summary for {}:\".format(filename))\n",
    "    print(\"number of utterances: {}\".format(utterance_counter))\n",
    "    print(\"number of paragraphs: {}\".format(paragraph_counter))\n",
    "    print(\"number of interjections: {}\".format(interjection_counter))\n",
    "    print(\"warnings in SpeechParser generator: {}\".format(parser.warnings_counter))\n",
    "    print(\"warnings in parse_transcript function: {}\".format(warnings_counter2))\n",
    "    print(\"==================================================\")\n",
    "\n",
    "    if utterance_counter <= 0:\n",
    "        return (1, 0)\n",
    "    else:\n",
    "        return (0, parser.warnings_counter + warnings_counter2)\n",
    "\n",
    "# ==========================================================================================================\n",
    "# ==========================================================================================================\n",
    "# what is this for? \n",
    "#def clear_db():\n",
    "#    database = dataset.connect(db)\n",
    "#    table = database['plpr']\n",
    "#    table.delete()\n",
    "\n",
    "# =================================================================================================================\n",
    "# =================================================================================================================\n",
    "\n",
    "\n",
    "def lines_with_one_character(file):\n",
    "\n",
    "    if isinstance(file, str):\n",
    "        # print(\"loading text from {}\".format(file))\n",
    "        with open(file) as fh:\n",
    "            text = fh.read()\n",
    "        text = text.replace(\"\\t\", \"\").split(\"\\n\")\n",
    "\n",
    "    # open file in zip archive\n",
    "    elif isinstance(file, zipfile.ZipExtFile):\n",
    "        content = file.read()\n",
    "        filename = file.name\n",
    "        if filename.endswith(\".xml\"):\n",
    "            root = ElementTree.fromstring(content)\n",
    "            text = root.find(\"TEXT\").text.replace(\"\\t\", \"\").split(\"\\n\")\n",
    "            # print(\"loading text from {}\".format(filename))\n",
    "        else:\n",
    "            print(\"filetype not xml\")\n",
    "            return None\n",
    "        file.close()\n",
    "\n",
    "    text = [line.strip() for line in text if line.strip() != '']\n",
    "    count = sum([1 for line in text if len(line) == 1])\n",
    "\n",
    "    return count"
   ]
  },
  {
   "cell_type": "code",
   "execution_count": null,
   "metadata": {
    "code_folding": [
     3
    ]
   },
   "outputs": [],
   "source": [
    "# =================================================================================================================\n",
    "\n",
    "# main execution script\n",
    "if __name__ == '__main__':\n",
    "\n",
    "    sys.stdout = Logger()\n",
    "\n",
    "    # settings for parsing\n",
    "    delete_additional_persons = False\n",
    "    delete_all = False\n",
    "    verbosity = 0\n",
    "\n",
    "    if delete_all:\n",
    "        print(\"Deleting all documents, utterances, paragraphs and interjections.\")\n",
    "        # pmodels.Person.objects.all().delete()\n",
    "        # pmodels.Parl.objects.all().delete()\n",
    "        # pmodels.ParlPeriod.objects.all().delete()\n",
    "        pm.Interjection.objects.all().delete()\n",
    "        pm.Paragraph.objects.all().delete()\n",
    "        pm.Utterance.objects.all().delete()\n",
    "        pm.Document.objects.all().delete()\n",
    "        print(\"Deletion done.\")\n",
    "\n",
    "    if delete_additional_persons:\n",
    "        print(\"Deleting all persons added from protocol parsing.\")\n",
    "        pm.Person.objects.filter(information_source__startswith=\"from protocol scraping\").delete()\n",
    "\n",
    "    document_counter = 0\n",
    "    count_errors = 0\n",
    "    count_warnings_docs = 0\n",
    "    count_warnings_sum = 0\n",
    "\n",
    "    wps = range(12, 11, -1)\n",
    "    sessions = range(13, 245)\n",
    "\n",
    "    print(\"start parsing...\")\n",
    "    for wp in wps:\n",
    "        collection = \"pp{wp:02d}-data.zip\".format(wp=wp)\n",
    "        print(collection)\n",
    "\n",
    "        archive = zipfile.ZipFile(os.path.join(data_dir, collection), 'r')\n",
    "        print(\"loading files from {}\".format(collection))\n",
    "        filelist = [fzip.filename for fzip in archive.infolist()]\n",
    "\n",
    "        for session in sessions:\n",
    "            filename = \"{wp:02d}{s:03d}.xml\".format(wp=wp, s=session)\n",
    "            if filename in filelist:\n",
    "\n",
    "                # delete old protocol\n",
    "                pm.Document.objects.filter(parlperiod__n=wp, sitting=session,\n",
    "                                           text_source=\"from https://www.bundestag.de/service/opendata \"\n",
    "                                                       \"(scans of pdfs with xml metadata)\").delete()\n",
    "                f = archive.open(filename)\n",
    "                print(f)\n",
    "                parser_errors, parser_warnings = parse_transcript(f, verbosity=verbosity)\n",
    "                count_errors += parser_errors\n",
    "                if parser_warnings > 0:\n",
    "                    count_warnings_docs += 1\n",
    "                    count_warnings_sum += parser_warnings\n",
    "\n",
    "                document_counter += 1\n",
    "                f.close()\n",
    "\n",
    "                f = archive.open(filename)\n",
    "                print(\"lines with one character: {}\".format(lines_with_one_character(f)))\n",
    "                print(\"==================================================\\n\")\n",
    "\n",
    "                f.close()\n",
    "            else:\n",
    "                print(\"{} not in archive\".format(filename))\n",
    "\n",
    "        archive.close()\n",
    "\n",
    "\n",
    "    print(\"\\n==================================================\")\n",
    "    print(\"Summary for {} documents:\".format(document_counter))\n",
    "    print(\"Documents with errors: {}\".format(count_errors))\n",
    "    print(\"Documents with warnings: {}\".format(count_warnings_docs))\n",
    "    print(\"Sum of all warnings: {}\".format(count_warnings_sum))"
   ]
  },
  {
   "cell_type": "markdown",
   "metadata": {},
   "source": [
    "### Testing"
   ]
  },
  {
   "cell_type": "code",
   "execution_count": 9,
   "metadata": {},
   "outputs": [
    {
     "name": "stdout",
     "output_type": "stream",
     "text": [
      "../data/11002_testedit.xml\n"
     ]
    }
   ],
   "source": [
    "wps = range(11, 10, -1)\n",
    "sessions = range(4, 5)\n",
    "\n",
    "wp = 11\n",
    "session = 2\n",
    "\n",
    "testdata_dir = \"../data/\"\n",
    "filename = \"{wp:02d}{s:03d}.xml\".format(wp=wp, s=session)\n",
    "test_filename = \"{wp:02d}{s:03d}_testedit.xml\".format(wp=wp, s=session)\n",
    "file = testdata_dir + test_filename\n",
    "print(file)"
   ]
  },
  {
   "cell_type": "code",
   "execution_count": 10,
   "metadata": {},
   "outputs": [
    {
     "name": "stdout",
     "output_type": "stream",
     "text": [
      "loading text from ../data/11002_testedit.xml\n",
      "\n",
      "Parsing transcript: 11/2, from ../data/11002_testedit.xml\n"
     ]
    }
   ],
   "source": [
    "verbosity = 1\n",
    "print(\"loading text from {}\".format(file))\n",
    "try:\n",
    "    with open(file) as fh:\n",
    "        content = fh.read()\n",
    "        text = clean_text(content)\n",
    "except UnicodeDecodeError:\n",
    "    print(\"Reloading in other encoding (windows-1252)\")\n",
    "    with open(file, encoding=\"windows-1252\") as fh:\n",
    "        content = fh.read()\n",
    "        text = clean_text(content)\n",
    "filename = file\n",
    "wp, session = file_metadata(filename)\n",
    "\n",
    "base_data = {\n",
    "    'filename': filename,\n",
    "    'sitzung': session,\n",
    "    'wahlperiode': wp\n",
    "}\n",
    "\n",
    "print(\"\\nParsing transcript: {}/{}, from {}\".format(wp, session, filename))\n",
    "utterance_counter = 0\n",
    "paragraph_counter = 0\n",
    "interjection_counter = 0\n",
    "\n",
    "parser = SpeechParser(text.split('\\n'), verbosity=verbosity)"
   ]
  },
  {
   "cell_type": "code",
   "execution_count": 5,
   "metadata": {},
   "outputs": [
    {
     "name": "stdout",
     "output_type": "stream",
     "text": [
      "None\n"
     ]
    }
   ],
   "source": [
    "parser.get_date\n",
    "print(parser.date)"
   ]
  },
  {
   "cell_type": "code",
   "execution_count": 9,
   "metadata": {
    "scrolled": true
   },
   "outputs": [
    {
     "name": "stdout",
     "output_type": "stream",
     "text": [
      "= matched begin mark at line 30: Beginn: 11.00 Uhr\n",
      "= matched speaker at line 31: <re.Match object; span=(0, 25), match='Präsident Dr. Jenninger: '>\n",
      "interjection: speakers: [], party: , speaker_party: , speaker_ortszusatz: , type: 7,\n",
      "interjection text: Die Abgeordneten erheben sich\n",
      "= setting stopword flag\n",
      "= matched top mark: Meine Damen und Herren, ich rufe Punkt 1 der Tagesordnung auf:\n",
      "interjection: speakers: [], party: , speaker_party: , speaker_ortszusatz: , type: 7,\n",
      "interjection text: Namensaufruf und Wahl\n",
      "interjection: speakers: [], party: , speaker_party: , speaker_ortszusatz: , type: 7,\n",
      "interjection text: Unterbrechung von 12.00 Uhr bis 12.30 Uhr\n",
      "= matched header:  28\tDeutscher Bundestag – 11. Wahlperiode – 2. Sitzung. Bonn, Mittwoch, den 11. März 1987\n",
      "= matched current speaker in header: Präsident Dr. Jenninger: Meine Damen und Herren, die Sitzung ist wieder eröffnet.\n",
      "= matched speaker at line 61: <re.Match object; span=(0, 12), match='(Roth [SPD]:'>\n",
      "Präsident Dr. Jenninger\n",
      "None\n",
      "None\n",
      "[{'text': '', 'pois': [<parsing_utils.POI object at 0x7fe99e563940>]}, {'text': 'Ich darf Sie bitten, sich von den Plätzen zu erheben. Am Abend des 6. März ist die britische Kanalfähre „Herald of Free Enterprise\" auf der Heimfahrt nahe dem belgischen Hafen Zeebrugge gekentert und in weniger als einer Minute gesunken. Von den mehr als 500 Passagieren, meist britischen Staatsangehörigen, darunter auch Soldaten der Rheinarmee auf Heimaturlaub, kamen über 100 ums Leben; viele wurden schwer verletzt. Wir haben diese Nachricht mit tiefer Bestürzung aufgenommen. Eine solche Katastrophe auf dieser belebten Wasserstraße mit ihren modernen Schiffen schien bisher undenkbar zu sein. Wir trauern um die Toten, und unser Mitgefühl gilt den betroffenen Familien. Dem britischen Volk, seinem Parlament und seiner Regierung, aber auch den anderen betroffenen Nationen, spreche ich die tiefempfundene Anteilnahme des Deutschen Bundestages aus. Meine Damen und Herren, es erreichte uns außerdem die Meldung, daß am 5. und 6. März ein Erdbeben den Südosten Ecuadors heimsuchte. Es verursachte schwere Verwüstungen, forderte Hunderte von Toten und machte Tausende von Menschen obdachlos. Das genaue Ausmaß der Schäden ist immer noch nicht zu übersehen. Erschüttert gedenken wir der Toten und fühlen mit allen Mitbetroffenen. Der Deutsche Bundestag übermittelt der Bevölkerung, dem Parlament und der Regierung Ecuadors seine aufrichtige Teilnahme. Sie haben sich von Ihren Plätzen erhoben. Ich danke Ihnen. Meine Damen und Herren, ich rufe Punkt 1 der Tagesordnung auf: Wahl des Bundeskanzlers Der Herr Bundespräsident hat mir hierzu mit Schreiben vom 10. März 1987 mitgeteilt: Gemäß Artikel 63 Absatz 1 des Grundgesetzes für die Bundesrepublik Deutschland schlage ich dem Deutschen Bundestag vor, Herrn Dr. Helmut Kohl zum Bundeskanzler zu wählen. Wir kommen nunmehr zur Wahl des Bundeskanzlers. Nach unserer Geschäftsordnung wird der Bundeskanzler mit verdeckten Stimmkarten gewählt. Das Verfahren ist Ihnen bekannt. Ich bitte die Schriftführer, die vorgesehenen Plätze einzunehmen. Die beiden Schriftführer neben mir werden jetzt die Namen in alphabetischer Reihenfolge aufrufen. Nach Aufruf Ihres Namens erhalten Sie hier vorne die allein gültige weiße Stimmkarte. Diese Stimmkarte darf nur in der Wahlkabine angekreuzt und in den Umschlag gelegt werden. Für die Stimmkarten der voll stimmberechtigten 497 Abgeordneten ist die gläserne Urne vorgesehen. Die 22 Berliner Abgeordneten bitte ich, ihre Stimmkarten in die besonders gekennzeichnete Wahlurne zu geben. Ich bitte Sie, dem Schriftführer Ihren Namen zu nennen, bevor Sie die Stimmkarte in die Wahlurne geben. Haben die Schriftführer ihre Plätze eingenommen? – Das ist der Fall. Dann eröffne ich die Wahl und bitte, mit dem Aufruf der Namen zu beginnen.', 'pois': [<parsing_utils.POI object at 0x7fe99e563a58>]}, {'text': 'Meine Damen und Herren, der Namensaufruf ist beendet. Ich darf trotzdem die Frage an das Haus richten: Haben alle Mitglieder des Hauses, auch die Schriftführer, ihre Stimme abgegeben? – Meine Damen und Herren, ich höre soeben, daß einige Abgeordnete im Saal sind, die ihre Stimme noch nicht abgegeben haben. Ich darf die Kollegen bitten, dies zu tun. Meine Damen und Herren, ich darf noch einmal die Frage an Sie richten: Haben alle Mitglieder des Hauses, auch die Schriftführer, ihre Stimme abgegeben? – Das ist offensichtlich der Fall. Ich schließe die Wahl und bitte alle Schriftführer, mit der Auszählung zu beginnen. Zur Auszählung unterbreche ich die Sitzung für 30 Minuten.', 'pois': [<parsing_utils.POI object at 0x7fe99e563908>]}]\n",
      "####\n",
      "interjection: speakers: [], party: cducsu:fdp, speaker_party: , speaker_ortszusatz: , type: 1,\n",
      "interjection text: Anhaltender Beifall bei der CDU/CSU und der FDP\n",
      "= matched speaker at line 69: <re.Match object; span=(0, 19), match='Dr. Kohl (CDU/CSU):'>\n",
      "(Roth [SPD]\n",
      "spd\n",
      "None\n",
      "[{'text': '225 Abgeordnete stimmten mit Nein. 6 Abgeordnete haben sich der Stimme enthalten. 3 Stimmen waren ungültig. Die Berliner Abgeordneten haben wie folgt gestimmt: Abgegebene Stimmen: 21. Mit Ja haben 13 Abgeordnete gestimmt, mit Nein 8 Abgeordnete. Enthaltungen: keine. Ungültige Stimmen: keine. Gemäß Art. 63 Abs. 2 des Grundgesetzes ist zum Bundeskanzler gewählt, wer die Stimmen der Mehrheit der Mitglieder des Bundestages – das sind 249 Stimmen – auf sich vereinigt. Ich stelle fest, meine Damen und Herren, daß der Abgeordnete Dr. Helmut Kohl mit den erforderlichen Stimmen der Mehrheit der Mitglieder des Bundestages zum Bundeskanzler der Bundesrepublik Deutschland gewählt worden ist.', 'pois': [<parsing_utils.POI object at 0x7fe99e5634e0>]}]\n",
      "####\n",
      "interjection: speakers: [], party: cducsu:fdp, speaker_party: , speaker_ortszusatz: , type: 1,\n",
      "interjection text: Beifall bei der CDU/CSU und der FDP\n",
      "interjection: speakers: ['Dr. Vogel', 'Dr. Bangemann', 'Strauß', 'Mischnick', 'Genscher', 'Brandt'], party: , speaker_party: , speaker_ortszusatz: , type: 7,\n",
      "interjection text: Abg. Dr. Vogel [SPD], Abg. Dr. Bangemann [FDP], Abg. Strauß [CDU/CSU], Abg. Mischnick [FDP], Abg. Genscher [FDP], Abg. Brandt [SPD] sowie weitere Abgeordnete beglückwünschen Bundeskanzler Dr. Kohl\n",
      "= matched speaker at line 71: <re.Match object; span=(0, 25), match='Präsident Dr. Jenninger: '>\n",
      "Dr. Kohl (CDU/CSU)\n",
      "cducsu\n",
      "None\n",
      "[{'text': '', 'pois': [<parsing_utils.POI object at 0x7fe99e563908>, <parsing_utils.POI object at 0x7fe99e563978>]}]\n",
      "####\n",
      "interjection: speakers: [], party: , speaker_party: , speaker_ortszusatz: , type: 7,\n",
      "interjection text: Unterbrechung von 12.33 bis 14.31 Uhr\n",
      "= matched speaker at line 75: <re.Match object; span=(0, 25), match='Präsident Dr. Jenninger: '>\n",
      "Präsident Dr. Jenninger\n",
      "None\n",
      "None\n",
      "[{'text': 'Das Ergebnis der Wahl werde ich unverzüglich dem Herrn Bundespräsidenten mitteilen. Meine Damen und Herren, ich unterbreche nunmehr die Sitzung bis 14.30 Uhr. Als nächster Punkt der Tagesordnung wird dann die Eidesleistung des Bundeskanzlers aufgerufen.', 'pois': [<parsing_utils.POI object at 0x7fe99e5639e8>]}]\n",
      "####\n",
      "= matched top mark: Ich rufe Punkt 2 der Tagesordnung auf: Eidesleistung des Bundeskanzlers\n",
      "interjection: speakers: [], party: , speaker_party: , speaker_ortszusatz: , type: 7,\n",
      "interjection text: Die Abgeordneten erheben sich\n",
      "= matched speaker at line 83: <re.Match object; span=(0, 25), match='Dr. Kohl, Bundeskanzler: '>\n",
      "Präsident Dr. Jenninger\n",
      "None\n",
      "None\n",
      "[{'text': 'Ich rufe Punkt 2 der Tagesordnung auf: Eidesleistung des Bundeskanzlers Der Herr Bundespräsident hat mir mit Schreiben vom heutigen Tage mitgeteilt: Gemäß Artikel 63 Absatz 2 des Grundgesetzes für die Bundesrepublik Deutschland habe ich heute Herrn Dr. Helmut Kohl zum Bundeskanzler ernannt. Nach Art. 64 Abs. 2 des Grundgesetzes leistet der Bundeskanzler bei der Amtsübernahme vor dem Bundestag den in Art. 56 des Grundgesetzes vorgesehenen Eid. Herr Bundeskanzler, ich bitte Sie zur Eidesleistung.', 'pois': [<parsing_utils.POI object at 0x7fe99e563390>]}]\n",
      "####\n",
      "= matched speaker at line 84: <re.Match object; span=(0, 25), match='Präsident Dr. Jenninger: '>\n",
      "Dr. Kohl, Bundeskanzler\n",
      "None\n",
      "None\n",
      "[{'text': '', 'pois': []}]\n",
      "####\n",
      "= matched speaker at line 85: <re.Match object; span=(0, 25), match='Dr. Kohl, Bundeskanzler: '>\n",
      "Präsident Dr. Jenninger\n",
      "None\n",
      "None\n",
      "[{'text': '', 'pois': []}]\n",
      "####\n",
      "interjection: speakers: [], party: cducsu:fdp, speaker_party: , speaker_ortszusatz: , type: 1,\n",
      "interjection text: Beifall bei der CDU/CSU und der FDP\n",
      "= matched end mark at line 87: Präsident Dr. Jenninger: Meine Damen und Herren, wir sind damit am Schluß unserer heutigen Tagesordnung. Ich berufe die nächste Sitzung des Deutschen Bundestages auf morgen, Donnerstag, den 12. März 1987, 11 Uhr ein. Die Sitzung ist geschlossen.\n",
      "Dr. Kohl, Bundeskanzler\n",
      "None\n",
      "None\n",
      "[{'text': '', 'pois': [<parsing_utils.POI object at 0x7fe99e5634a8>]}, {'text': 'Präsident Dr. Jenninger: Meine Damen und Herren, wir sind damit am Schluß unserer heutigen Tagesordnung. Ich berufe die nächste Sitzung des Deutschen Bundestages auf morgen, Donnerstag, den 12. März 1987, 11 Uhr ein. Die Sitzung ist geschlossen.', 'pois': []}]\n",
      "####\n"
     ]
    }
   ],
   "source": [
    "# utterances\n",
    "for contrib in parser:\n",
    "    if contrib['speaker']:\n",
    "        print(contrib['speaker'])\n",
    "        print(contrib['speaker_party'])\n",
    "        print(contrib['speaker_ortszusatz'])\n",
    "        print(contrib['pars'])\n",
    "        print('####')"
   ]
  },
  {
   "cell_type": "code",
   "execution_count": 11,
   "metadata": {
    "scrolled": true
   },
   "outputs": [
    {
     "name": "stdout",
     "output_type": "stream",
     "text": [
      "= matched begin mark at line 30: Beginn: 11.00 Uhr\n",
      "= matched speaker at line 31: <re.Match object; span=(0, 25), match='Präsident Dr. Jenninger: '>\n",
      "interjection: speakers: [], party: , speaker_party: , speaker_ortszusatz: , type: 7,\n",
      "interjection text: Die Abgeordneten erheben sich\n",
      "= setting stopword flag\n",
      "= matched top mark: Meine Damen und Herren, ich rufe Punkt 1 der Tagesordnung auf:\n",
      "interjection: speakers: [], party: , speaker_party: , speaker_ortszusatz: , type: 7,\n",
      "interjection text: Namensaufruf und Wahl\n",
      "interjection: speakers: [], party: , speaker_party: , speaker_ortszusatz: , type: 7,\n",
      "interjection text: Unterbrechung von 12.00 Uhr bis 12.30 Uhr\n",
      "= matched header:  28\tDeutscher Bundestag – 11. Wahlperiode – 2. Sitzung. Bonn, Mittwoch, den 11. März 1987\n",
      "= matched current speaker in header: Präsident Dr. Jenninger:\n",
      "interjection: speakers: ['Roth'], party: , speaker_party: spd, speaker_ortszusatz: , type: 2,\n",
      "interjection text: Das ist ja wenig!\n",
      "interjection: speakers: [], party: cducsu:fdp, speaker_party: , speaker_ortszusatz: , type: 1,\n",
      "interjection text: Anhaltender Beifall bei der CDU/CSU und der FDP\n",
      "= matched speaker at line 71: <re.Match object; span=(0, 19), match='Dr. Kohl (CDU/CSU):'>\n",
      "Meine Damen und Herren, ich eröffne die 2. Sitzung der 11. Wahlperiode des Deutschen Bundestages.\n",
      "####\n",
      "Ich darf Sie bitten, sich von den Plätzen zu erheben. Am Abend des 6. März ist die britische Kanalfähre „Herald of Free Enterprise\" auf der Heimfahrt nahe dem belgischen Hafen Zeebrugge gekentert und in weniger als einer Minute gesunken. Von den mehr als 500 Passagieren, meist britischen Staatsangehörigen, darunter auch Soldaten der Rheinarmee auf Heimaturlaub, kamen über 100 ums Leben; viele wurden schwer verletzt. Wir haben diese Nachricht mit tiefer Bestürzung aufgenommen. Eine solche Katastrophe auf dieser belebten Wasserstraße mit ihren modernen Schiffen schien bisher undenkbar zu sein. Wir trauern um die Toten, und unser Mitgefühl gilt den betroffenen Familien. Dem britischen Volk, seinem Parlament und seiner Regierung, aber auch den anderen betroffenen Nationen, spreche ich die tiefempfundene Anteilnahme des Deutschen Bundestages aus. Meine Damen und Herren, es erreichte uns außerdem die Meldung, daß am 5. und 6. März ein Erdbeben den Südosten Ecuadors heimsuchte. Es verursachte schwere Verwüstungen, forderte Hunderte von Toten und machte Tausende von Menschen obdachlos. Das genaue Ausmaß der Schäden ist immer noch nicht zu übersehen. Erschüttert gedenken wir der Toten und fühlen mit allen Mitbetroffenen. Der Deutsche Bundestag übermittelt der Bevölkerung, dem Parlament und der Regierung Ecuadors seine aufrichtige Teilnahme. Sie haben sich von Ihren Plätzen erhoben. Ich danke Ihnen. Meine Damen und Herren, ich rufe Punkt 1 der Tagesordnung auf: Wahl des Bundeskanzlers Der Herr Bundespräsident hat mir hierzu mit Schreiben vom 10. März 1987 mitgeteilt: Gemäß Artikel 63 Absatz 1 des Grundgesetzes für die Bundesrepublik Deutschland schlage ich dem Deutschen Bundestag vor, Herrn Dr. Helmut Kohl zum Bundeskanzler zu wählen. Wir kommen nunmehr zur Wahl des Bundeskanzlers. Nach unserer Geschäftsordnung wird der Bundeskanzler mit verdeckten Stimmkarten gewählt. Das Verfahren ist Ihnen bekannt. Ich bitte die Schriftführer, die vorgesehenen Plätze einzunehmen. Die beiden Schriftführer neben mir werden jetzt die Namen in alphabetischer Reihenfolge aufrufen. Nach Aufruf Ihres Namens erhalten Sie hier vorne die allein gültige weiße Stimmkarte. Diese Stimmkarte darf nur in der Wahlkabine angekreuzt und in den Umschlag gelegt werden. Für die Stimmkarten der voll stimmberechtigten 497 Abgeordneten ist die gläserne Urne vorgesehen. Die 22 Berliner Abgeordneten bitte ich, ihre Stimmkarten in die besonders gekennzeichnete Wahlurne zu geben. Ich bitte Sie, dem Schriftführer Ihren Namen zu nennen, bevor Sie die Stimmkarte in die Wahlurne geben. Haben die Schriftführer ihre Plätze eingenommen? – Das ist der Fall. Dann eröffne ich die Wahl und bitte, mit dem Aufruf der Namen zu beginnen.\n",
      "####\n",
      "Meine Damen und Herren, der Namensaufruf ist beendet. Ich darf trotzdem die Frage an das Haus richten: Haben alle Mitglieder des Hauses, auch die Schriftführer, ihre Stimme abgegeben? – Meine Damen und Herren, ich höre soeben, daß einige Abgeordnete im Saal sind, die ihre Stimme noch nicht abgegeben haben. Ich darf die Kollegen bitten, dies zu tun. Meine Damen und Herren, ich darf noch einmal die Frage an Sie richten: Haben alle Mitglieder des Hauses, auch die Schriftführer, ihre Stimme abgegeben? – Das ist offensichtlich der Fall. Ich schließe die Wahl und bitte alle Schriftführer, mit der Auszählung zu beginnen. Zur Auszählung unterbreche ich die Sitzung für 30 Minuten.\n",
      "####\n",
      "Meine Damen und Herren, die Sitzung ist wieder eröffnet. Ich gebe das Ergebnis der Wahl bekannt. Von den stimmberechtigten Abgeordneten wurden insgesamt 487 Stimmen abgegeben. Von diesen abgegebenen Stimmen waren 484 gültig. Mit Ja haben 253 Abgeordnete gestimmt.\n",
      "####\n",
      "225 Abgeordnete stimmten mit Nein. 6 Abgeordnete haben sich der Stimme enthalten. 3 Stimmen waren ungültig. Die Berliner Abgeordneten haben wie folgt gestimmt: Abgegebene Stimmen: 21. Mit Ja haben 13 Abgeordnete gestimmt, mit Nein 8 Abgeordnete. Enthaltungen: keine. Ungültige Stimmen: keine. Gemäß Art. 63 Abs. 2 des Grundgesetzes ist zum Bundeskanzler gewählt, wer die Stimmen der Mehrheit der Mitglieder des Bundestages – das sind 249 Stimmen – auf sich vereinigt. Ich stelle fest, meine Damen und Herren, daß der Abgeordnete Dr. Helmut Kohl mit den erforderlichen Stimmen der Mehrheit der Mitglieder des Bundestages zum Bundeskanzler der Bundesrepublik Deutschland gewählt worden ist.\n",
      "####\n",
      "interjection: speakers: [], party: cducsu:fdp, speaker_party: , speaker_ortszusatz: , type: 1,\n",
      "interjection text: Beifall bei der CDU/CSU und der FDP\n",
      "interjection: speakers: ['Dr. Vogel', 'Dr. Bangemann', 'Strauß', 'Mischnick', 'Genscher', 'Brandt'], party: , speaker_party: , speaker_ortszusatz: , type: 7,\n",
      "interjection text: Abg. Dr. Vogel [SPD], Abg. Dr. Bangemann [FDP], Abg. Strauß [CDU/CSU], Abg. Mischnick [FDP], Abg. Genscher [FDP], Abg. Brandt [SPD] sowie weitere Abgeordnete beglückwünschen Bundeskanzler Dr. Kohl\n",
      "= matched speaker at line 74: <re.Match object; span=(0, 25), match='Präsident Dr. Jenninger: '>\n",
      "Herr Präsident, ich nehme die Wahl an.\n",
      "####\n",
      "interjection: speakers: [], party: , speaker_party: , speaker_ortszusatz: , type: 7,\n",
      "interjection text: Unterbrechung von 12.33 bis 14.31 Uhr\n",
      "= matched speaker at line 79: <re.Match object; span=(0, 25), match='Präsident Dr. Jenninger: '>\n",
      "Herr Bundeskanzler, ich gratuliere Ihnen persönlich und im Namen des Hauses und wünsche Ihnen Glück und Gottes Segen für Ihr hohes Amt. Das Ergebnis der Wahl werde ich unverzüglich dem Herrn Bundespräsidenten mitteilen. Meine Damen und Herren, ich unterbreche nunmehr die Sitzung bis 14.30 Uhr. Als nächster Punkt der Tagesordnung wird dann die Eidesleistung des Bundeskanzlers aufgerufen.\n",
      "####\n",
      "= matched top mark: Ich rufe Punkt 2 der Tagesordnung auf: Eidesleistung des Bundeskanzlers\n",
      "interjection: speakers: [], party: , speaker_party: , speaker_ortszusatz: , type: 7,\n",
      "interjection text: Die Abgeordneten erheben sich\n",
      "= matched speaker at line 88: <re.Match object; span=(0, 25), match='Dr. Kohl, Bundeskanzler: '>\n",
      "Meine Damen und Herren! Die unterbrochene Sitzung ist wieder eröffnet. Ich rufe Punkt 2 der Tagesordnung auf: Eidesleistung des Bundeskanzlers Der Herr Bundespräsident hat mir mit Schreiben vom heutigen Tage mitgeteilt: Gemäß Artikel 63 Absatz 2 des Grundgesetzes für die Bundesrepublik Deutschland habe ich heute Herrn Dr. Helmut Kohl zum Bundeskanzler ernannt. Nach Art. 64 Abs. 2 des Grundgesetzes leistet der Bundeskanzler bei der Amtsübernahme vor dem Bundestag den in Art. 56 des Grundgesetzes vorgesehenen Eid. Herr Bundeskanzler, ich bitte Sie zur Eidesleistung.\n",
      "####\n",
      "= matched speaker at line 90: <re.Match object; span=(0, 25), match='Präsident Dr. Jenninger: '>\n",
      "Ich schwöre, daß ich meine Kraft dem Wohle des deutschen Volkes widmen, seinen Nutzen mehren, Schaden von ihm wenden, das Grundgesetz und die Gesetze des Bundes wahren und verteidigen, meine Pflichten gewissenhaft erfüllen und Gerechtigkeit gegen jedermann üben werde. So wahr mir Gott helfe. Präsident Dr. Jenninger: \n",
      "####\n",
      "= matched speaker at line 92: <re.Match object; span=(0, 25), match='Dr. Kohl, Bundeskanzler: '>\n",
      "Ich stelle fest, daß der Herr Bundeskanzler den vorgeschriebenen Amtseid geleistet hat. Ich darf Ihnen, Herr Bundeskanzler, noch einmal im Namen des Hauses meine besten Wünsche für Glück und Erfolg in Ihrer Arbeit übermitteln. Dr. Kohl, Bundeskanzler: \n",
      "####\n",
      "interjection: speakers: [], party: cducsu:fdp, speaker_party: , speaker_ortszusatz: , type: 1,\n",
      "interjection text: Beifall bei der CDU/CSU und der FDP\n",
      "= matched end mark at line 95: Präsident Dr. Jenninger: Meine Damen und Herren, wir sind damit am Schluß unserer heutigen Tagesordnung. Ich berufe die nächste Sitzung des Deutschen Bundestages auf morgen, Donnerstag, den 12. März 1987, 11 Uhr ein. Die Sitzung ist geschlossen.\n",
      "Vielen Dank, Herr Präsident.\n",
      "####\n",
      "Präsident Dr. Jenninger: Meine Damen und Herren, wir sind damit am Schluß unserer heutigen Tagesordnung. Ich berufe die nächste Sitzung des Deutschen Bundestages auf morgen, Donnerstag, den 12. März 1987, 11 Uhr ein. Die Sitzung ist geschlossen.\n",
      "####\n"
     ]
    }
   ],
   "source": [
    "for contrib in parser:\n",
    "    for par in contrib['pars']:\n",
    "        print(par['text'])\n",
    "        print(\"####\")"
   ]
  },
  {
   "cell_type": "code",
   "execution_count": 13,
   "metadata": {
    "scrolled": true
   },
   "outputs": [
    {
     "name": "stdout",
     "output_type": "stream",
     "text": [
      "= matched speaker in header:  Dr. Kohl CDU/CSU  \t28 B\n",
      "= matched speaker in header:  Dr. Kohl, Bundeskanzler  \t28 D\n",
      "= matched header:  Deutscher Bundestag – 11. Wahlperiode – 2. Sitzung. Bonn, Mittwoch, den 11. März 1987\t27\n",
      "= matched speaker at line 31: <re.Match object; span=(0, 25), match='Präsident Dr. Jenninger: '>\n",
      "[]\n",
      "####\n",
      "interjection: speakers: [], party: , speaker_party: , speaker_ortszusatz: , type: 7,\n",
      "interjection text: Die Abgeordneten erheben sich\n",
      "= setting stopword flag\n",
      "= matched top mark: Meine Damen und Herren, ich rufe Punkt 1 der Tagesordnung auf:\n",
      "interjection: speakers: [], party: , speaker_party: , speaker_ortszusatz: , type: 7,\n",
      "interjection text: Namensaufruf und Wahl\n",
      "interjection: speakers: [], party: , speaker_party: , speaker_ortszusatz: , type: 7,\n",
      "interjection text: Unterbrechung von 12.00 Uhr bis 12.30 Uhr\n",
      "= matched header:  28\tDeutscher Bundestag – 11. Wahlperiode – 2. Sitzung. Bonn, Mittwoch, den 11. März 1987\n",
      "= matched current speaker in header: Präsident Dr. Jenninger: Meine Damen und Herren, die Sitzung ist wieder eröffnet.\n",
      "= matched speaker at line 61: <re.Match object; span=(0, 12), match='(Roth [SPD]:'>\n",
      "[<parsing_utils.POI object at 0x7fe99e4ee438>]\n",
      "####\n",
      "[<parsing_utils.POI object at 0x7fe99e4ee390>]\n",
      "####\n",
      "[<parsing_utils.POI object at 0x7fe99e4ee4e0>]\n",
      "####\n",
      "interjection: speakers: [], party: cducsu:fdp, speaker_party: , speaker_ortszusatz: , type: 1,\n",
      "interjection text: Anhaltender Beifall bei der CDU/CSU und der FDP\n",
      "= matched speaker at line 69: <re.Match object; span=(0, 19), match='Dr. Kohl (CDU/CSU):'>\n",
      "[<parsing_utils.POI object at 0x7fe99e4ee550>]\n",
      "####\n",
      "interjection: speakers: [], party: cducsu:fdp, speaker_party: , speaker_ortszusatz: , type: 1,\n",
      "interjection text: Beifall bei der CDU/CSU und der FDP\n",
      "interjection: speakers: ['Dr. Vogel', 'Dr. Bangemann', 'Strauß', 'Mischnick', 'Genscher', 'Brandt'], party: , speaker_party: , speaker_ortszusatz: , type: 7,\n",
      "interjection text: Abg. Dr. Vogel [SPD], Abg. Dr. Bangemann [FDP], Abg. Strauß [CDU/CSU], Abg. Mischnick [FDP], Abg. Genscher [FDP], Abg. Brandt [SPD] sowie weitere Abgeordnete beglückwünschen Bundeskanzler Dr. Kohl\n",
      "= matched speaker at line 71: <re.Match object; span=(0, 25), match='Präsident Dr. Jenninger: '>\n",
      "[<parsing_utils.POI object at 0x7fe99e4ee4e0>, <parsing_utils.POI object at 0x7fe99e4ee470>]\n",
      "####\n",
      "interjection: speakers: [], party: , speaker_party: , speaker_ortszusatz: , type: 7,\n",
      "interjection text: Unterbrechung von 12.33 bis 14.31 Uhr\n",
      "= matched speaker at line 75: <re.Match object; span=(0, 25), match='Präsident Dr. Jenninger: '>\n",
      "[<parsing_utils.POI object at 0x7fe99e4ee438>]\n",
      "####\n",
      "= matched top mark: Ich rufe Punkt 2 der Tagesordnung auf: Eidesleistung des Bundeskanzlers\n",
      "interjection: speakers: [], party: , speaker_party: , speaker_ortszusatz: , type: 7,\n",
      "interjection text: Die Abgeordneten erheben sich\n",
      "= matched speaker at line 83: <re.Match object; span=(0, 25), match='Dr. Kohl, Bundeskanzler: '>\n",
      "[<parsing_utils.POI object at 0x7fe99e4ee470>]\n",
      "####\n",
      "= matched speaker at line 84: <re.Match object; span=(0, 25), match='Präsident Dr. Jenninger: '>\n",
      "[]\n",
      "####\n",
      "= matched speaker at line 85: <re.Match object; span=(0, 25), match='Dr. Kohl, Bundeskanzler: '>\n",
      "[]\n",
      "####\n",
      "interjection: speakers: [], party: cducsu:fdp, speaker_party: , speaker_ortszusatz: , type: 1,\n",
      "interjection text: Beifall bei der CDU/CSU und der FDP\n",
      "= matched end mark at line 87: Präsident Dr. Jenninger: Meine Damen und Herren, wir sind damit am Schluß unserer heutigen Tagesordnung. Ich berufe die nächste Sitzung des Deutschen Bundestages auf morgen, Donnerstag, den 12. März 1987, 11 Uhr ein. Die Sitzung ist geschlossen.\n",
      "[<parsing_utils.POI object at 0x7fe99e4ee550>]\n",
      "####\n",
      "[]\n",
      "####\n"
     ]
    }
   ],
   "source": [
    "# interjections\n",
    "for contrib in parser:\n",
    "    for par in contrib['pars']:\n",
    "        print(par['pois'])\n",
    "        print(\"####\")"
   ]
  },
  {
   "cell_type": "code",
   "execution_count": 6,
   "metadata": {
    "scrolled": true
   },
   "outputs": [
    {
     "name": "stdout",
     "output_type": "stream",
     "text": [
      "= matched speaker in header:  Dr. Kohl CDU/CSU  \t28 B\n",
      "= matched speaker in header:  Dr. Kohl, Bundeskanzler  \t28 D\n",
      "= matched header:  Deutscher Bundestag – 11. Wahlperiode – 2. Sitzung. Bonn, Mittwoch, den 11. März 1987\t27\n",
      "= matched speaker at line 31: <re.Match object; span=(0, 25), match='Präsident Dr. Jenninger: '>\n",
      "interjection: speakers: [], party: , speaker_party: , speaker_ortszusatz: , type: 7,\n",
      "interjection text: Die Abgeordneten erheben sich\n",
      "= setting stopword flag\n",
      "= matched top mark: Meine Damen und Herren, ich rufe Punkt 1 der Tagesordnung auf:\n",
      "interjection: speakers: [], party: , speaker_party: , speaker_ortszusatz: , type: 7,\n",
      "interjection text: Namensaufruf und Wahl\n",
      "interjection: speakers: [], party: , speaker_party: , speaker_ortszusatz: , type: 7,\n",
      "interjection text: Unterbrechung von 12.00 Uhr bis 12.30 Uhr\n",
      "= matched header:  28\tDeutscher Bundestag – 11. Wahlperiode – 2. Sitzung. Bonn, Mittwoch, den 11. März 1987\n",
      "= matched current speaker in header: Präsident Dr. Jenninger: Meine Damen und Herren, die Sitzung ist wieder eröffnet.\n",
      "= matched speaker at line 61: <re.Match object; span=(0, 12), match='(Roth [SPD]:'>\n",
      "interjection: speakers: [], party: cducsu:fdp, speaker_party: , speaker_ortszusatz: , type: 1,\n",
      "interjection text: Anhaltender Beifall bei der CDU/CSU und der FDP\n",
      "= matched speaker at line 69: <re.Match object; span=(0, 19), match='Dr. Kohl (CDU/CSU):'>\n",
      "interjection: speakers: [], party: cducsu:fdp, speaker_party: , speaker_ortszusatz: , type: 1,\n",
      "interjection text: Beifall bei der CDU/CSU und der FDP\n",
      "interjection: speakers: ['Dr. Vogel', 'Dr. Bangemann', 'Strauß', 'Mischnick', 'Genscher', 'Brandt'], party: , speaker_party: , speaker_ortszusatz: , type: 7,\n",
      "interjection text: Abg. Dr. Vogel [SPD], Abg. Dr. Bangemann [FDP], Abg. Strauß [CDU/CSU], Abg. Mischnick [FDP], Abg. Genscher [FDP], Abg. Brandt [SPD] sowie weitere Abgeordnete beglückwünschen Bundeskanzler Dr. Kohl\n",
      "= matched speaker at line 71: <re.Match object; span=(0, 25), match='Präsident Dr. Jenninger: '>\n",
      "\n",
      "\n",
      "###\n",
      "\n",
      "\n",
      "###\n",
      "\n",
      "\n",
      "###\n",
      "\n",
      "\n",
      "###\n",
      "\n",
      "\n",
      "###\n",
      "\n",
      "\n",
      "###\n",
      "interjection: speakers: [], party: , speaker_party: , speaker_ortszusatz: , type: 7,\n",
      "interjection text: Unterbrechung von 12.33 bis 14.31 Uhr\n",
      "= matched speaker at line 75: <re.Match object; span=(0, 25), match='Präsident Dr. Jenninger: '>\n",
      "= matched top mark: Ich rufe Punkt 2 der Tagesordnung auf: Eidesleistung des Bundeskanzlers\n",
      "interjection: speakers: [], party: , speaker_party: , speaker_ortszusatz: , type: 7,\n",
      "interjection text: Die Abgeordneten erheben sich\n",
      "= matched speaker at line 83: <re.Match object; span=(0, 25), match='Dr. Kohl, Bundeskanzler: '>\n",
      "= matched speaker at line 84: <re.Match object; span=(0, 25), match='Präsident Dr. Jenninger: '>\n",
      "= matched speaker at line 85: <re.Match object; span=(0, 25), match='Dr. Kohl, Bundeskanzler: '>\n",
      "interjection: speakers: [], party: cducsu:fdp, speaker_party: , speaker_ortszusatz: , type: 1,\n",
      "interjection text: Beifall bei der CDU/CSU und der FDP\n",
      "= matched end mark at line 87: Präsident Dr. Jenninger: Meine Damen und Herren, wir sind damit am Schluß unserer heutigen Tagesordnung. Ich berufe die nächste Sitzung des Deutschen Bundestages auf morgen, Donnerstag, den 12. März 1987, 11 Uhr ein. Die Sitzung ist geschlossen.\n"
     ]
    }
   ],
   "source": [
    "# interjections info\n",
    "for contrib in parser:\n",
    "    for par in contrib['pars']:\n",
    "        for ij in par['pois']:\n",
    "            if ij.speakers:\n",
    "                for person in ij.speakers:\n",
    "                    #print(person)\n",
    "                    print(ij.speaker_party)\n",
    "                    print(ij.speaker_ortszusatz)\n",
    "                    print('###')"
   ]
  },
  {
   "cell_type": "markdown",
   "metadata": {},
   "source": [
    "---"
   ]
  },
  {
   "cell_type": "markdown",
   "metadata": {},
   "source": [
    "#### Identifying parties"
   ]
  },
  {
   "cell_type": "code",
   "execution_count": 8,
   "metadata": {},
   "outputs": [],
   "source": [
    "test_string = \"Dr. Vogel [SPD]:\"\n",
    "test_string2 = 'Wieczorek [Duisburg] [SPD]:'\n",
    "#test_string = normalize(test_string)\n",
    "test_party = test_string.strip().split(' ')[-1]"
   ]
  },
  {
   "cell_type": "code",
   "execution_count": 10,
   "metadata": {},
   "outputs": [],
   "source": [
    "test_party2 = 'F.D.P.'\n",
    "test_person = 'Rühe (CDU/CSU)'"
   ]
  },
  {
   "cell_type": "code",
   "execution_count": 11,
   "metadata": {},
   "outputs": [],
   "source": [
    "PARTIES_REGEX_PDF = {\n",
    "    'cducsu': re.compile(' ?cdu ?(csu)?'),\n",
    "    'spd': re.compile(' ?spd'),\n",
    "    'linke': re.compile(' ?(die|der|den) linken?| pds'),\n",
    "    'fdp': re.compile(' ?fdp|F.D.P.'),\n",
    "    'gruene': re.compile(' ?bund ?nis\\-?(ses)? ?90 die gru ?nen'),\n",
    "    'afd': re.compile(' ?AfD')\n",
    "}"
   ]
  },
  {
   "cell_type": "code",
   "execution_count": 13,
   "metadata": {
    "code_folding": [
     0
    ]
   },
   "outputs": [],
   "source": [
    "def search_person_party(text):\n",
    "    \"\"\"\n",
    "    returns the party of a speaker from an input string (from raw text)\n",
    "    \"\"\"\n",
    "    if text is None:\n",
    "        return\n",
    "    text = normalize(text)\n",
    "    # identify correct group of text in name\n",
    "    \n",
    "    # find party\n",
    "    for party, rex in PARTIES_REGEX.items():\n",
    "        if rex.findall(text):\n",
    "            person_party = party\n",
    "            return person_party"
   ]
  },
  {
   "cell_type": "code",
   "execution_count": 14,
   "metadata": {
    "scrolled": true
   },
   "outputs": [
    {
     "data": {
      "text/plain": [
       "'cducsu'"
      ]
     },
     "execution_count": 14,
     "metadata": {},
     "output_type": "execute_result"
    }
   ],
   "source": [
    "search_person_party(test_person)"
   ]
  },
  {
   "cell_type": "markdown",
   "metadata": {},
   "source": [
    "#### Interjections"
   ]
  },
  {
   "cell_type": "code",
   "execution_count": 6,
   "metadata": {},
   "outputs": [
    {
     "name": "stdout",
     "output_type": "stream",
     "text": [
      "['Wieczorek', '[Duisburg]', '[SPD]']\n"
     ]
    },
    {
     "data": {
      "text/plain": [
       "'spd'"
      ]
     },
     "execution_count": 6,
     "metadata": {},
     "output_type": "execute_result"
    }
   ],
   "source": [
    "# from class POI in parsing_utils.py \n",
    "text2 = 'Wieczorek [Duisburg] [SPD]: '\n",
    "if \": \" in text2:\n",
    "    sinfo = text2.split(': ', 1)\n",
    "    speaker = sinfo[0].split(' ')\n",
    "    #if len(speaker) > 1:\n",
    "    #    self.speakers.append(speaker[0].strip())\n",
    "print(speaker)\n",
    "search_person_party(sinfo[0])"
   ]
  },
  {
   "cell_type": "code",
   "execution_count": 46,
   "metadata": {},
   "outputs": [
    {
     "data": {
      "text/plain": [
       "'München'"
      ]
     },
     "execution_count": 46,
     "metadata": {},
     "output_type": "execute_result"
    }
   ],
   "source": [
    "REMOVE_BRACKET = re.compile('[\\(\\[](.*)[\\)\\]]')\n",
    "test_orts = '[München]'\n",
    "REMOVE_BRACKET.match(test_orts).group(1)"
   ]
  },
  {
   "cell_type": "code",
   "execution_count": 10,
   "metadata": {},
   "outputs": [
    {
     "data": {
      "text/plain": [
       "str"
      ]
     },
     "execution_count": 10,
     "metadata": {},
     "output_type": "execute_result"
    }
   ],
   "source": [
    "speaker_match = PARTY_MEMBER_PDF.match(sinfo[0])\n",
    "REMOVE_BRACKET.match(speaker_match.group(2)).group(1)"
   ]
  },
  {
   "cell_type": "markdown",
   "metadata": {},
   "source": [
    "#### Regular Expressions"
   ]
  },
  {
   "cell_type": "code",
   "execution_count": 19,
   "metadata": {},
   "outputs": [],
   "source": [
    "# groups name, ortszusatz (if any), and party of a speaker\n",
    "PARTY_MEMBER_PDF = re.compile('([^\\(\\)]{2,50}?)([\\[\\(][^\\(\\)]*[\\]\\)])?\\s?([\\[\\(][^\\(\\)]*[\\]\\)])\\s?:')\n",
    "PARTY_MEMBER_PDF_POI = re.compile('[\\(\\)]?\\s?(\\w{2,50}?)\\s([\\[\\(][^\\(\\)]*[\\]\\)])?\\s?([\\[\\(][^\\(\\)]*[\\]\\)])\\s?')"
   ]
  },
  {
   "cell_type": "code",
   "execution_count": 25,
   "metadata": {},
   "outputs": [
    {
     "data": {
      "text/plain": [
       "'[Duisburg] [SPD]'"
      ]
     },
     "execution_count": 25,
     "metadata": {},
     "output_type": "execute_result"
    }
   ],
   "source": [
    "test_result = PARTY_MEMBER_PDF.match(test_string2).group(3)\n",
    "speaker_party = normalize(test_result)\n",
    "speaker_party = ' '\n",
    "test_result"
   ]
  },
  {
   "cell_type": "code",
   "execution_count": 22,
   "metadata": {},
   "outputs": [
    {
     "data": {
      "text/plain": [
       "'Dr. Vogel '"
      ]
     },
     "execution_count": 22,
     "metadata": {},
     "output_type": "execute_result"
    }
   ],
   "source": [
    "name = clean_text(test_string)\n",
    "name = INHYPHEN.sub(r'\\1\\2', name)\n",
    "name = name.replace('\\n', ' ')\n",
    "name = name.rstrip(':') #new\n",
    "name = NAME_REMOVE.sub('', name)\n",
    "name"
   ]
  },
  {
   "cell_type": "code",
   "execution_count": 21,
   "metadata": {},
   "outputs": [
    {
     "data": {
      "text/plain": [
       "'SPD'"
      ]
     },
     "execution_count": 21,
     "metadata": {},
     "output_type": "execute_result"
    }
   ],
   "source": [
    "PERSON_PARTY.match(test_string.rstrip(':')).group(2)"
   ]
  },
  {
   "cell_type": "markdown",
   "metadata": {},
   "source": [
    "#### Testing find_person_in_db modified"
   ]
  },
  {
   "cell_type": "code",
   "execution_count": 23,
   "metadata": {},
   "outputs": [
    {
     "data": {
      "text/plain": [
       "<Person: Dr. Hans-Jochen Vogel>"
      ]
     },
     "execution_count": 23,
     "metadata": {},
     "output_type": "execute_result"
    }
   ],
   "source": [
    "# utterances\n",
    "# this works! now to implement into parser \n",
    "person = test_string\n",
    "info_dict = {'wp': wp, 'session': session, 'source_type': 'PDF/SP'}\n",
    "speaker_party = normalize(PARTY_MEMBER_PDF.match(person).group(3))\n",
    "info_dict['party'] = speaker_party\n",
    "per = find_person_in_db(person, add_info=info_dict, verbosity=verbosity) \n",
    "per"
   ]
  },
  {
   "cell_type": "code",
   "execution_count": 24,
   "metadata": {},
   "outputs": [
    {
     "data": {
      "text/plain": [
       "'spd'"
      ]
     },
     "execution_count": 24,
     "metadata": {},
     "output_type": "execute_result"
    }
   ],
   "source": [
    "info_dict['party']"
   ]
  },
  {
   "cell_type": "code",
   "execution_count": 25,
   "metadata": {},
   "outputs": [
    {
     "name": "stdout",
     "output_type": "stream",
     "text": [
      "! Warning: Could not distinguish between persons!\n",
      "For name string: Dr. Vogel \n",
      "first name: , surname: Vogel\n",
      "title: Dr., party: None, position: None, ortszusatz: None\n",
      "Query: <QuerySet [<Person: Dr. Hans-Jochen Vogel>, <Person: Dr. Vogel>, <Person: Dr. Hans Vogel>, <Person: Dr. HansJochen Vogel>, <Person: Dr. Hans-Joachim Vogel>]>\n",
      "Clean names: ['Dr. Hans-Jochen Vogel', 'Dr. Vogel', 'Dr. Hans Vogel', 'Dr. HansJochen Vogel', 'Dr. Hans-Joachim Vogel']\n",
      "Taking first entry of ambiguous results\n"
     ]
    }
   ],
   "source": [
    "# interjections\n",
    "info_dict = {'wp': wp, 'session': session, 'source_type': 'PDF/POI'}\n",
    "per = find_person_in_db(person, add_info=info_dict, verbosity=verbosity)"
   ]
  },
  {
   "cell_type": "markdown",
   "metadata": {},
   "source": [
    "#### missing paragraphs"
   ]
  },
  {
   "cell_type": "code",
   "execution_count": 11,
   "metadata": {},
   "outputs": [],
   "source": [
    "# testing dehyphenate function\n",
    "def dehyphenate(text, nl=False):\n",
    "    DEHYPHENATE = re.compile('(?<=[A-Za-zäöüß])(-\\s*)\\n(?!\\s*[A-ZÄÖÜ][a-zäöüß])', re.M)\n",
    "\n",
    "    if isinstance(text, (list, tuple)):\n",
    "        text = '\\n'.join(text)\n",
    "    text = DEHYPHENATE.sub('', text)\n",
    "    if nl:\n",
    "        return text\n",
    "    else:\n",
    "        return text.replace('\\n', ' ')"
   ]
  },
  {
   "cell_type": "code",
   "execution_count": 14,
   "metadata": {},
   "outputs": [],
   "source": [
    "para = \"Präsident Dr. Jenninger: Meine Damen und Herren, die Sitzung ist wieder eröffnet. Ich gebe das Ergebnis der Wahl bekannt. Von den stimmberechtigten Abgeordneten wurden insgesamt 487 Stimmen abgegeben. Von diesen abgegebenen Stimmen waren 484 gültig. Mit Ja haben 253 Abgeordnete gestimmt.\""
   ]
  },
  {
   "cell_type": "code",
   "execution_count": 16,
   "metadata": {},
   "outputs": [
    {
     "data": {
      "text/plain": [
       "'Präsident Dr. Jenninger: Meine Damen und Herren, die Sitzung ist wieder eröffnet. Ich gebe das Ergebnis der Wahl bekannt. Von den stimmberechtigten Abgeordneten wurden insgesamt 487 Stimmen abgegeben. Von diesen abgegebenen Stimmen waren 484 gültig. Mit Ja haben 253 Abgeordnete gestimmt.'"
      ]
     },
     "execution_count": 16,
     "metadata": {},
     "output_type": "execute_result"
    }
   ],
   "source": [
    "dehyphenate(para, nl=True)"
   ]
  },
  {
   "cell_type": "code",
   "execution_count": null,
   "metadata": {},
   "outputs": [],
   "source": []
  }
 ],
 "metadata": {
  "kernelspec": {
   "display_name": "venv",
   "language": "python",
   "name": "venv"
  },
  "language_info": {
   "codemirror_mode": {
    "name": "ipython",
    "version": 3
   },
   "file_extension": ".py",
   "mimetype": "text/x-python",
   "name": "python",
   "nbconvert_exporter": "python",
   "pygments_lexer": "ipython3",
   "version": "3.7.0"
  }
 },
 "nbformat": 4,
 "nbformat_minor": 2
}
